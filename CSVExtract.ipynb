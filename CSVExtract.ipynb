{
 "cells": [
  {
   "cell_type": "code",
   "execution_count": 2,
   "id": "ce5d6cee-fc5e-44b5-8909-202f63d0270c",
   "metadata": {
    "tags": []
   },
   "outputs": [
    {
     "name": "stdout",
     "output_type": "stream",
     "text": [
      "10286 2023-05-27 18:20:06.345 -74.666309 54.041834 [-75.166309, 53.541834, -74.166309, 54.541834] 2023-05-26 2023-06-01\n",
      "SNPP\n",
      "Granules found: 29\n",
      "NOAA20\n",
      "Granules found: 24\n",
      "proceeding to open data files...\n",
      "Granules found: 29\n",
      "Opening 29 granules, approx size: 4.57 GB\n"
     ]
    },
    {
     "data": {
      "application/vnd.jupyter.widget-view+json": {
       "model_id": "d1f02d20f6324f369451d1b22ee76a8c",
       "version_major": 2,
       "version_minor": 0
      },
      "text/plain": [
       "QUEUEING TASKS | :   0%|          | 0/29 [00:00<?, ?it/s]"
      ]
     },
     "metadata": {},
     "output_type": "display_data"
    },
    {
     "data": {
      "application/vnd.jupyter.widget-view+json": {
       "model_id": "e588c27395ae4e16a753cec3ef3deec6",
       "version_major": 2,
       "version_minor": 0
      },
      "text/plain": [
       "PROCESSING TASKS | :   0%|          | 0/29 [00:00<?, ?it/s]"
      ]
     },
     "metadata": {},
     "output_type": "display_data"
    },
    {
     "data": {
      "application/vnd.jupyter.widget-view+json": {
       "model_id": "c97bbaa939fb4da889b785d9339560d4",
       "version_major": 2,
       "version_minor": 0
      },
      "text/plain": [
       "COLLECTING RESULTS | :   0%|          | 0/29 [00:00<?, ?it/s]"
      ]
     },
     "metadata": {},
     "output_type": "display_data"
    },
    {
     "name": "stdout",
     "output_type": "stream",
     "text": [
      "Granules found: 29\n",
      "Opening 29 granules, approx size: 5.56 GB\n"
     ]
    },
    {
     "data": {
      "application/vnd.jupyter.widget-view+json": {
       "model_id": "56e28fea8fa547908d22930d5e964e74",
       "version_major": 2,
       "version_minor": 0
      },
      "text/plain": [
       "QUEUEING TASKS | :   0%|          | 0/29 [00:00<?, ?it/s]"
      ]
     },
     "metadata": {},
     "output_type": "display_data"
    },
    {
     "data": {
      "application/vnd.jupyter.widget-view+json": {
       "model_id": "967d77935f024786a9b4101b3d2715c1",
       "version_major": 2,
       "version_minor": 0
      },
      "text/plain": [
       "PROCESSING TASKS | :   0%|          | 0/29 [00:00<?, ?it/s]"
      ]
     },
     "metadata": {},
     "output_type": "display_data"
    },
    {
     "data": {
      "application/vnd.jupyter.widget-view+json": {
       "model_id": "c92bb8a4953a4cbfb02d9803fac0c2c6",
       "version_major": 2,
       "version_minor": 0
      },
      "text/plain": [
       "COLLECTING RESULTS | :   0%|          | 0/29 [00:00<?, ?it/s]"
      ]
     },
     "metadata": {},
     "output_type": "display_data"
    },
    {
     "name": "stdout",
     "output_type": "stream",
     "text": [
      "28 hits\n",
      "cloud hosted True\n"
     ]
    },
    {
     "data": {
      "application/vnd.jupyter.widget-view+json": {
       "model_id": "35fdd9484fc54200b373145e093ee282",
       "version_major": 2,
       "version_minor": 0
      },
      "text/plain": [
       "QUEUEING TASKS | :   0%|          | 0/28 [00:00<?, ?it/s]"
      ]
     },
     "metadata": {},
     "output_type": "display_data"
    },
    {
     "data": {
      "application/vnd.jupyter.widget-view+json": {
       "model_id": "b7197ba5433f4c52bbfe690a72f6427b",
       "version_major": 2,
       "version_minor": 0
      },
      "text/plain": [
       "PROCESSING TASKS | :   0%|          | 0/28 [00:00<?, ?it/s]"
      ]
     },
     "metadata": {},
     "output_type": "display_data"
    },
    {
     "data": {
      "application/vnd.jupyter.widget-view+json": {
       "model_id": "9373a979cfcb491e9473ef1e2753e33d",
       "version_major": 2,
       "version_minor": 0
      },
      "text/plain": [
       "COLLECTING RESULTS | :   0%|          | 0/28 [00:00<?, ?it/s]"
      ]
     },
     "metadata": {},
     "output_type": "display_data"
    },
    {
     "name": "stdout",
     "output_type": "stream",
     "text": [
      "VNP14IMG\n",
      "{'VNP02IMG': [<File-like object HTTPFileSystem, https://ladsweb.modaps.eosdis.nasa.gov/archive/allData/5200/VNP02IMG/2023/146/VNP02IMG.A2023146.0612.002.2023146142834.nc>,\n",
      "              <File-like object HTTPFileSystem, https://ladsweb.modaps.eosdis.nasa.gov/archive/allData/5200/VNP02IMG/2023/146/VNP02IMG.A2023146.0754.002.2023146160334.nc>,\n",
      "              <File-like object HTTPFileSystem, https://ladsweb.modaps.eosdis.nasa.gov/archive/allData/5200/VNP02IMG/2023/146/VNP02IMG.A2023146.1606.002.2023147005734.nc>,\n",
      "              <File-like object HTTPFileSystem, https://ladsweb.modaps.eosdis.nasa.gov/archive/allData/5200/VNP02IMG/2023/146/VNP02IMG.A2023146.1742.002.2023147005825.nc>,\n",
      "              <File-like object HTTPFileSystem, https://ladsweb.modaps.eosdis.nasa.gov/archive/allData/5200/VNP02IMG/2023/146/VNP02IMG.A2023146.1748.002.2023147022101.nc>,\n",
      "              <File-like object HTTPFileSystem, https://ladsweb.modaps.eosdis.nasa.gov/archive/allData/5200/VNP02IMG/2023/147/VNP02IMG.A2023147.0554.002.2023147140510.nc>,\n",
      "              <File-like object HTTPFileSystem, https://ladsweb.modaps.eosdis.nasa.gov/archive/allData/5200/VNP02IMG/2023/147/VNP02IMG.A2023147.0736.002.2023147142017.nc>,\n",
      "              <File-like object HTTPFileSystem, https://ladsweb.modaps.eosdis.nasa.gov/archive/allData/5200/VNP02IMG/2023/147/VNP02IMG.A2023147.1548.002.2023148001500.nc>,\n",
      "              <File-like object HTTPFileSystem, https://ladsweb.modaps.eosdis.nasa.gov/archive/allData/5200/VNP02IMG/2023/147/VNP02IMG.A2023147.1724.002.2023148003331.nc>,\n",
      "              <File-like object HTTPFileSystem, https://ladsweb.modaps.eosdis.nasa.gov/archive/allData/5200/VNP02IMG/2023/147/VNP02IMG.A2023147.1906.002.2023148021653.nc>,\n",
      "              <File-like object HTTPFileSystem, https://ladsweb.modaps.eosdis.nasa.gov/archive/allData/5200/VNP02IMG/2023/148/VNP02IMG.A2023148.0536.002.2023148120728.nc>,\n",
      "              <File-like object HTTPFileSystem, https://ladsweb.modaps.eosdis.nasa.gov/archive/allData/5200/VNP02IMG/2023/148/VNP02IMG.A2023148.0718.002.2023148134125.nc>,\n",
      "              <File-like object HTTPFileSystem, https://ladsweb.modaps.eosdis.nasa.gov/archive/allData/5200/VNP02IMG/2023/148/VNP02IMG.A2023148.0900.002.2023148155625.nc>,\n",
      "              <File-like object HTTPFileSystem, https://ladsweb.modaps.eosdis.nasa.gov/archive/allData/5200/VNP02IMG/2023/148/VNP02IMG.A2023148.1706.002.2023149000747.nc>,\n",
      "              <File-like object HTTPFileSystem, https://ladsweb.modaps.eosdis.nasa.gov/archive/allData/5200/VNP02IMG/2023/148/VNP02IMG.A2023148.1848.002.2023149015124.nc>,\n",
      "              <File-like object HTTPFileSystem, https://ladsweb.modaps.eosdis.nasa.gov/archive/allData/5200/VNP02IMG/2023/149/VNP02IMG.A2023149.0700.002.2023149135916.nc>,\n",
      "              <File-like object HTTPFileSystem, https://ladsweb.modaps.eosdis.nasa.gov/archive/allData/5200/VNP02IMG/2023/149/VNP02IMG.A2023149.0836.002.2023149171144.nc>,\n",
      "              <File-like object HTTPFileSystem, https://ladsweb.modaps.eosdis.nasa.gov/archive/allData/5200/VNP02IMG/2023/149/VNP02IMG.A2023149.0842.002.2023149171210.nc>,\n",
      "              <File-like object HTTPFileSystem, https://ladsweb.modaps.eosdis.nasa.gov/archive/allData/5200/VNP02IMG/2023/149/VNP02IMG.A2023149.1648.002.2023149234712.nc>,\n",
      "              <File-like object HTTPFileSystem, https://ladsweb.modaps.eosdis.nasa.gov/archive/allData/5200/VNP02IMG/2023/149/VNP02IMG.A2023149.1830.002.2023150012822.nc>,\n",
      "              <File-like object HTTPFileSystem, https://ladsweb.modaps.eosdis.nasa.gov/archive/allData/5200/VNP02IMG/2023/150/VNP02IMG.A2023150.0642.002.2023150160517.nc>,\n",
      "              <File-like object HTTPFileSystem, https://ladsweb.modaps.eosdis.nasa.gov/archive/allData/5200/VNP02IMG/2023/150/VNP02IMG.A2023150.0818.002.2023150164452.nc>,\n",
      "              <File-like object HTTPFileSystem, https://ladsweb.modaps.eosdis.nasa.gov/archive/allData/5200/VNP02IMG/2023/150/VNP02IMG.A2023150.1630.002.2023150234320.nc>,\n",
      "              <File-like object HTTPFileSystem, https://ladsweb.modaps.eosdis.nasa.gov/archive/allData/5200/VNP02IMG/2023/150/VNP02IMG.A2023150.1812.002.2023151025939.nc>,\n",
      "              <File-like object HTTPFileSystem, https://ladsweb.modaps.eosdis.nasa.gov/archive/allData/5200/VNP02IMG/2023/151/VNP02IMG.A2023151.0618.002.2023156160642.nc>,\n",
      "              <File-like object HTTPFileSystem, https://ladsweb.modaps.eosdis.nasa.gov/archive/allData/5200/VNP02IMG/2023/151/VNP02IMG.A2023151.0624.002.2023156160602.nc>,\n",
      "              <File-like object HTTPFileSystem, https://ladsweb.modaps.eosdis.nasa.gov/archive/allData/5200/VNP02IMG/2023/151/VNP02IMG.A2023151.0800.002.2023156161115.nc>,\n",
      "              <File-like object HTTPFileSystem, https://ladsweb.modaps.eosdis.nasa.gov/archive/allData/5200/VNP02IMG/2023/151/VNP02IMG.A2023151.1612.002.2023156161804.nc>,\n",
      "              <File-like object HTTPFileSystem, https://ladsweb.modaps.eosdis.nasa.gov/archive/allData/5200/VNP02IMG/2023/151/VNP02IMG.A2023151.1754.002.2023156161856.nc>],\n",
      " 'VNP03IMG': [<File-like object HTTPFileSystem, https://ladsweb.modaps.eosdis.nasa.gov/archive/allData/5200/VNP03IMG/2023/146/VNP03IMG.A2023146.0612.002.2023146141313.nc>,\n",
      "              <File-like object HTTPFileSystem, https://ladsweb.modaps.eosdis.nasa.gov/archive/allData/5200/VNP03IMG/2023/146/VNP03IMG.A2023146.0754.002.2023146154813.nc>,\n",
      "              <File-like object HTTPFileSystem, https://ladsweb.modaps.eosdis.nasa.gov/archive/allData/5200/VNP03IMG/2023/146/VNP03IMG.A2023146.1606.002.2023147004152.nc>,\n",
      "              <File-like object HTTPFileSystem, https://ladsweb.modaps.eosdis.nasa.gov/archive/allData/5200/VNP03IMG/2023/146/VNP03IMG.A2023146.1742.002.2023147004148.nc>,\n",
      "              <File-like object HTTPFileSystem, https://ladsweb.modaps.eosdis.nasa.gov/archive/allData/5200/VNP03IMG/2023/146/VNP03IMG.A2023146.1748.002.2023147004150.nc>,\n",
      "              <File-like object HTTPFileSystem, https://ladsweb.modaps.eosdis.nasa.gov/archive/allData/5200/VNP03IMG/2023/147/VNP03IMG.A2023147.0554.002.2023147134947.nc>,\n",
      "              <File-like object HTTPFileSystem, https://ladsweb.modaps.eosdis.nasa.gov/archive/allData/5200/VNP03IMG/2023/147/VNP03IMG.A2023147.0736.002.2023147140248.nc>,\n",
      "              <File-like object HTTPFileSystem, https://ladsweb.modaps.eosdis.nasa.gov/archive/allData/5200/VNP03IMG/2023/147/VNP03IMG.A2023147.1548.002.2023147223712.nc>,\n",
      "              <File-like object HTTPFileSystem, https://ladsweb.modaps.eosdis.nasa.gov/archive/allData/5200/VNP03IMG/2023/147/VNP03IMG.A2023147.1724.002.2023148001717.nc>,\n",
      "              <File-like object HTTPFileSystem, https://ladsweb.modaps.eosdis.nasa.gov/archive/allData/5200/VNP03IMG/2023/147/VNP03IMG.A2023147.1906.002.2023148020111.nc>,\n",
      "              <File-like object HTTPFileSystem, https://ladsweb.modaps.eosdis.nasa.gov/archive/allData/5200/VNP03IMG/2023/148/VNP03IMG.A2023148.0536.002.2023148115117.nc>,\n",
      "              <File-like object HTTPFileSystem, https://ladsweb.modaps.eosdis.nasa.gov/archive/allData/5200/VNP03IMG/2023/148/VNP03IMG.A2023148.0718.002.2023148132617.nc>,\n",
      "              <File-like object HTTPFileSystem, https://ladsweb.modaps.eosdis.nasa.gov/archive/allData/5200/VNP03IMG/2023/148/VNP03IMG.A2023148.0900.002.2023148153843.nc>,\n",
      "              <File-like object HTTPFileSystem, https://ladsweb.modaps.eosdis.nasa.gov/archive/allData/5200/VNP03IMG/2023/148/VNP03IMG.A2023148.1706.002.2023148235041.nc>,\n",
      "              <File-like object HTTPFileSystem, https://ladsweb.modaps.eosdis.nasa.gov/archive/allData/5200/VNP03IMG/2023/148/VNP03IMG.A2023148.1848.002.2023149013547.nc>,\n",
      "              <File-like object HTTPFileSystem, https://ladsweb.modaps.eosdis.nasa.gov/archive/allData/5200/VNP03IMG/2023/149/VNP03IMG.A2023149.0700.002.2023149134311.nc>,\n",
      "              <File-like object HTTPFileSystem, https://ladsweb.modaps.eosdis.nasa.gov/archive/allData/5200/VNP03IMG/2023/149/VNP03IMG.A2023149.0836.002.2023149165412.nc>,\n",
      "              <File-like object HTTPFileSystem, https://ladsweb.modaps.eosdis.nasa.gov/archive/allData/5200/VNP03IMG/2023/149/VNP03IMG.A2023149.0842.002.2023149165412.nc>,\n",
      "              <File-like object HTTPFileSystem, https://ladsweb.modaps.eosdis.nasa.gov/archive/allData/5200/VNP03IMG/2023/149/VNP03IMG.A2023149.1648.002.2023149233110.nc>,\n",
      "              <File-like object HTTPFileSystem, https://ladsweb.modaps.eosdis.nasa.gov/archive/allData/5200/VNP03IMG/2023/149/VNP03IMG.A2023149.1830.002.2023150011252.nc>,\n",
      "              <File-like object HTTPFileSystem, https://ladsweb.modaps.eosdis.nasa.gov/archive/allData/5200/VNP03IMG/2023/150/VNP03IMG.A2023150.0642.002.2023150154849.nc>,\n",
      "              <File-like object HTTPFileSystem, https://ladsweb.modaps.eosdis.nasa.gov/archive/allData/5200/VNP03IMG/2023/150/VNP03IMG.A2023150.0818.002.2023150161623.nc>,\n",
      "              <File-like object HTTPFileSystem, https://ladsweb.modaps.eosdis.nasa.gov/archive/allData/5200/VNP03IMG/2023/150/VNP03IMG.A2023150.1630.002.2023150232721.nc>,\n",
      "              <File-like object HTTPFileSystem, https://ladsweb.modaps.eosdis.nasa.gov/archive/allData/5200/VNP03IMG/2023/150/VNP03IMG.A2023150.1812.002.2023151024424.nc>,\n",
      "              <File-like object HTTPFileSystem, https://ladsweb.modaps.eosdis.nasa.gov/archive/allData/5200/VNP03IMG/2023/151/VNP03IMG.A2023151.0618.002.2023156145157.nc>,\n",
      "              <File-like object HTTPFileSystem, https://ladsweb.modaps.eosdis.nasa.gov/archive/allData/5200/VNP03IMG/2023/151/VNP03IMG.A2023151.0624.002.2023156145839.nc>,\n",
      "              <File-like object HTTPFileSystem, https://ladsweb.modaps.eosdis.nasa.gov/archive/allData/5200/VNP03IMG/2023/151/VNP03IMG.A2023151.0800.002.2023156145926.nc>,\n",
      "              <File-like object HTTPFileSystem, https://ladsweb.modaps.eosdis.nasa.gov/archive/allData/5200/VNP03IMG/2023/151/VNP03IMG.A2023151.1612.002.2023156150739.nc>,\n",
      "              <File-like object HTTPFileSystem, https://ladsweb.modaps.eosdis.nasa.gov/archive/allData/5200/VNP03IMG/2023/151/VNP03IMG.A2023151.1754.002.2023156151123.nc>],\n",
      " 'VNP14IMG': [<File-like object HTTPFileSystem, https://data.lpdaac.earthdatacloud.nasa.gov/lp-prod-protected/VNP14IMG.002/VNP14IMG.A2023146.0612.002.2024079100552/VNP14IMG.A2023146.0612.002.2024079100552.nc>,\n",
      "              <File-like object HTTPFileSystem, https://data.lpdaac.earthdatacloud.nasa.gov/lp-prod-protected/VNP14IMG.002/VNP14IMG.A2023146.0754.002.2024079100551/VNP14IMG.A2023146.0754.002.2024079100551.nc>,\n",
      "              <File-like object HTTPFileSystem, https://data.lpdaac.earthdatacloud.nasa.gov/lp-prod-protected/VNP14IMG.002/VNP14IMG.A2023146.1606.002.2024079100552/VNP14IMG.A2023146.1606.002.2024079100552.nc>,\n",
      "              <File-like object HTTPFileSystem, https://data.lpdaac.earthdatacloud.nasa.gov/lp-prod-protected/VNP14IMG.002/VNP14IMG.A2023146.1742.002.2024079100553/VNP14IMG.A2023146.1742.002.2024079100553.nc>,\n",
      "              <File-like object HTTPFileSystem, https://data.lpdaac.earthdatacloud.nasa.gov/lp-prod-protected/VNP14IMG.002/VNP14IMG.A2023146.1748.002.2024079100553/VNP14IMG.A2023146.1748.002.2024079100553.nc>,\n",
      "              <File-like object HTTPFileSystem, https://data.lpdaac.earthdatacloud.nasa.gov/lp-prod-protected/VNP14IMG.002/VNP14IMG.A2023147.0554.002.2024079101554/VNP14IMG.A2023147.0554.002.2024079101554.nc>,\n",
      "              <File-like object HTTPFileSystem, https://data.lpdaac.earthdatacloud.nasa.gov/lp-prod-protected/VNP14IMG.002/VNP14IMG.A2023147.0736.002.2024079101554/VNP14IMG.A2023147.0736.002.2024079101554.nc>,\n",
      "              <File-like object HTTPFileSystem, https://data.lpdaac.earthdatacloud.nasa.gov/lp-prod-protected/VNP14IMG.002/VNP14IMG.A2023147.1548.002.2024079101554/VNP14IMG.A2023147.1548.002.2024079101554.nc>,\n",
      "              <File-like object HTTPFileSystem, https://data.lpdaac.earthdatacloud.nasa.gov/lp-prod-protected/VNP14IMG.002/VNP14IMG.A2023147.1724.002.2024079101554/VNP14IMG.A2023147.1724.002.2024079101554.nc>,\n",
      "              <File-like object HTTPFileSystem, https://data.lpdaac.earthdatacloud.nasa.gov/lp-prod-protected/VNP14IMG.002/VNP14IMG.A2023147.1906.002.2024079101554/VNP14IMG.A2023147.1906.002.2024079101554.nc>,\n",
      "              <File-like object HTTPFileSystem, https://data.lpdaac.earthdatacloud.nasa.gov/lp-prod-protected/VNP14IMG.002/VNP14IMG.A2023148.0536.002.2024079102551/VNP14IMG.A2023148.0536.002.2024079102551.nc>,\n",
      "              <File-like object HTTPFileSystem, https://data.lpdaac.earthdatacloud.nasa.gov/lp-prod-protected/VNP14IMG.002/VNP14IMG.A2023148.0718.002.2024079102553/VNP14IMG.A2023148.0718.002.2024079102553.nc>,\n",
      "              <File-like object HTTPFileSystem, https://data.lpdaac.earthdatacloud.nasa.gov/lp-prod-protected/VNP14IMG.002/VNP14IMG.A2023148.0900.002.2024079102553/VNP14IMG.A2023148.0900.002.2024079102553.nc>,\n",
      "              <File-like object HTTPFileSystem, https://data.lpdaac.earthdatacloud.nasa.gov/lp-prod-protected/VNP14IMG.002/VNP14IMG.A2023148.1706.002.2024079102552/VNP14IMG.A2023148.1706.002.2024079102552.nc>,\n",
      "              <File-like object HTTPFileSystem, https://data.lpdaac.earthdatacloud.nasa.gov/lp-prod-protected/VNP14IMG.002/VNP14IMG.A2023148.1848.002.2024079102555/VNP14IMG.A2023148.1848.002.2024079102555.nc>,\n",
      "              <File-like object HTTPFileSystem, https://data.lpdaac.earthdatacloud.nasa.gov/lp-prod-protected/VNP14IMG.002/VNP14IMG.A2023149.0700.002.2024079103754/VNP14IMG.A2023149.0700.002.2024079103754.nc>,\n",
      "              <File-like object HTTPFileSystem, https://data.lpdaac.earthdatacloud.nasa.gov/lp-prod-protected/VNP14IMG.002/VNP14IMG.A2023149.0836.002.2024079103818/VNP14IMG.A2023149.0836.002.2024079103818.nc>,\n",
      "              <File-like object HTTPFileSystem, https://data.lpdaac.earthdatacloud.nasa.gov/lp-prod-protected/VNP14IMG.002/VNP14IMG.A2023149.1648.002.2024079103818/VNP14IMG.A2023149.1648.002.2024079103818.nc>,\n",
      "              <File-like object HTTPFileSystem, https://data.lpdaac.earthdatacloud.nasa.gov/lp-prod-protected/VNP14IMG.002/VNP14IMG.A2023149.1830.002.2024079103816/VNP14IMG.A2023149.1830.002.2024079103816.nc>,\n",
      "              <File-like object HTTPFileSystem, https://data.lpdaac.earthdatacloud.nasa.gov/lp-prod-protected/VNP14IMG.002/VNP14IMG.A2023150.0642.002.2024079105219/VNP14IMG.A2023150.0642.002.2024079105219.nc>,\n",
      "              <File-like object HTTPFileSystem, https://data.lpdaac.earthdatacloud.nasa.gov/lp-prod-protected/VNP14IMG.002/VNP14IMG.A2023150.0818.002.2024079105218/VNP14IMG.A2023150.0818.002.2024079105218.nc>,\n",
      "              <File-like object HTTPFileSystem, https://data.lpdaac.earthdatacloud.nasa.gov/lp-prod-protected/VNP14IMG.002/VNP14IMG.A2023150.1630.002.2024079105216/VNP14IMG.A2023150.1630.002.2024079105216.nc>,\n",
      "              <File-like object HTTPFileSystem, https://data.lpdaac.earthdatacloud.nasa.gov/lp-prod-protected/VNP14IMG.002/VNP14IMG.A2023150.1812.002.2024079105216/VNP14IMG.A2023150.1812.002.2024079105216.nc>,\n",
      "              <File-like object HTTPFileSystem, https://data.lpdaac.earthdatacloud.nasa.gov/lp-prod-protected/VNP14IMG.002/VNP14IMG.A2023151.0618.002.2024079110215/VNP14IMG.A2023151.0618.002.2024079110215.nc>,\n",
      "              <File-like object HTTPFileSystem, https://data.lpdaac.earthdatacloud.nasa.gov/lp-prod-protected/VNP14IMG.002/VNP14IMG.A2023151.0624.002.2024079110217/VNP14IMG.A2023151.0624.002.2024079110217.nc>,\n",
      "              <File-like object HTTPFileSystem, https://data.lpdaac.earthdatacloud.nasa.gov/lp-prod-protected/VNP14IMG.002/VNP14IMG.A2023151.0800.002.2024079110216/VNP14IMG.A2023151.0800.002.2024079110216.nc>,\n",
      "              <File-like object HTTPFileSystem, https://data.lpdaac.earthdatacloud.nasa.gov/lp-prod-protected/VNP14IMG.002/VNP14IMG.A2023151.1612.002.2024079110219/VNP14IMG.A2023151.1612.002.2024079110219.nc>,\n",
      "              <File-like object HTTPFileSystem, https://data.lpdaac.earthdatacloud.nasa.gov/lp-prod-protected/VNP14IMG.002/VNP14IMG.A2023151.1754.002.2024079110218/VNP14IMG.A2023151.1754.002.2024079110218.nc>]}\n",
      "Granules found: 24\n",
      "Opening 24 granules, approx size: 3.76 GB\n"
     ]
    },
    {
     "data": {
      "application/vnd.jupyter.widget-view+json": {
       "model_id": "982c7b14fb284b2d915530a6f2f4246a",
       "version_major": 2,
       "version_minor": 0
      },
      "text/plain": [
       "QUEUEING TASKS | :   0%|          | 0/24 [00:00<?, ?it/s]"
      ]
     },
     "metadata": {},
     "output_type": "display_data"
    },
    {
     "data": {
      "application/vnd.jupyter.widget-view+json": {
       "model_id": "d12269419890456d8715f840d53e95ce",
       "version_major": 2,
       "version_minor": 0
      },
      "text/plain": [
       "PROCESSING TASKS | :   0%|          | 0/24 [00:00<?, ?it/s]"
      ]
     },
     "metadata": {},
     "output_type": "display_data"
    },
    {
     "data": {
      "application/vnd.jupyter.widget-view+json": {
       "model_id": "c29eaaf97844421385e81341eab95f4b",
       "version_major": 2,
       "version_minor": 0
      },
      "text/plain": [
       "COLLECTING RESULTS | :   0%|          | 0/24 [00:00<?, ?it/s]"
      ]
     },
     "metadata": {},
     "output_type": "display_data"
    },
    {
     "name": "stdout",
     "output_type": "stream",
     "text": [
      "Granules found: 24\n",
      "Opening 24 granules, approx size: 4.7 GB\n"
     ]
    },
    {
     "data": {
      "application/vnd.jupyter.widget-view+json": {
       "model_id": "f169a2e3a87b4f389802355042b6e309",
       "version_major": 2,
       "version_minor": 0
      },
      "text/plain": [
       "QUEUEING TASKS | :   0%|          | 0/24 [00:00<?, ?it/s]"
      ]
     },
     "metadata": {},
     "output_type": "display_data"
    },
    {
     "data": {
      "application/vnd.jupyter.widget-view+json": {
       "model_id": "140f7d10fec94de1bf8576b5df5485bc",
       "version_major": 2,
       "version_minor": 0
      },
      "text/plain": [
       "PROCESSING TASKS | :   0%|          | 0/24 [00:00<?, ?it/s]"
      ]
     },
     "metadata": {},
     "output_type": "display_data"
    },
    {
     "data": {
      "application/vnd.jupyter.widget-view+json": {
       "model_id": "9538eb3937504a96a32715e0bcc0fae0",
       "version_major": 2,
       "version_minor": 0
      },
      "text/plain": [
       "COLLECTING RESULTS | :   0%|          | 0/24 [00:00<?, ?it/s]"
      ]
     },
     "metadata": {},
     "output_type": "display_data"
    },
    {
     "name": "stdout",
     "output_type": "stream",
     "text": [
      "23 hits\n",
      "cloud hosted True\n"
     ]
    },
    {
     "data": {
      "application/vnd.jupyter.widget-view+json": {
       "model_id": "48e0a87bbdfe4402b425369879634965",
       "version_major": 2,
       "version_minor": 0
      },
      "text/plain": [
       "QUEUEING TASKS | :   0%|          | 0/23 [00:00<?, ?it/s]"
      ]
     },
     "metadata": {},
     "output_type": "display_data"
    },
    {
     "data": {
      "application/vnd.jupyter.widget-view+json": {
       "model_id": "04b193414aac4f96a9434f598f255acb",
       "version_major": 2,
       "version_minor": 0
      },
      "text/plain": [
       "PROCESSING TASKS | :   0%|          | 0/23 [00:00<?, ?it/s]"
      ]
     },
     "metadata": {},
     "output_type": "display_data"
    },
    {
     "data": {
      "application/vnd.jupyter.widget-view+json": {
       "model_id": "69cc99e4d7fc49f893f8577106e0e953",
       "version_major": 2,
       "version_minor": 0
      },
      "text/plain": [
       "COLLECTING RESULTS | :   0%|          | 0/23 [00:00<?, ?it/s]"
      ]
     },
     "metadata": {},
     "output_type": "display_data"
    },
    {
     "name": "stdout",
     "output_type": "stream",
     "text": [
      "VJ114IMG\n",
      "{'VJ102IMG': [<File-like object HTTPFileSystem, https://ladsweb.modaps.eosdis.nasa.gov/archive/allData/5201/VJ102IMG/2023/146/VJ102IMG.A2023146.0706.021.2023146125150.nc>,\n",
      "              <File-like object HTTPFileSystem, https://ladsweb.modaps.eosdis.nasa.gov/archive/allData/5201/VJ102IMG/2023/146/VJ102IMG.A2023146.0842.021.2023146143225.nc>,\n",
      "              <File-like object HTTPFileSystem, https://ladsweb.modaps.eosdis.nasa.gov/archive/allData/5201/VJ102IMG/2023/146/VJ102IMG.A2023146.1654.021.2023146225643.nc>,\n",
      "              <File-like object HTTPFileSystem, https://ladsweb.modaps.eosdis.nasa.gov/archive/allData/5201/VJ102IMG/2023/146/VJ102IMG.A2023146.1836.021.2023147003713.nc>,\n",
      "              <File-like object HTTPFileSystem, https://ladsweb.modaps.eosdis.nasa.gov/archive/allData/5201/VJ102IMG/2023/147/VJ102IMG.A2023147.0648.021.2023147130725.nc>,\n",
      "              <File-like object HTTPFileSystem, https://ladsweb.modaps.eosdis.nasa.gov/archive/allData/5201/VJ102IMG/2023/147/VJ102IMG.A2023147.0824.021.2023147140927.nc>,\n",
      "              <File-like object HTTPFileSystem, https://ladsweb.modaps.eosdis.nasa.gov/archive/allData/5201/VJ102IMG/2023/147/VJ102IMG.A2023147.1636.021.2023147224232.nc>,\n",
      "              <File-like object HTTPFileSystem, https://ladsweb.modaps.eosdis.nasa.gov/archive/allData/5201/VJ102IMG/2023/147/VJ102IMG.A2023147.1818.021.2023148002306.nc>,\n",
      "              <File-like object HTTPFileSystem, https://ladsweb.modaps.eosdis.nasa.gov/archive/allData/5201/VJ102IMG/2023/148/VJ102IMG.A2023148.0624.021.2023148120536.nc>,\n",
      "              <File-like object HTTPFileSystem, https://ladsweb.modaps.eosdis.nasa.gov/archive/allData/5201/VJ102IMG/2023/148/VJ102IMG.A2023148.0806.021.2023148144630.nc>,\n",
      "              <File-like object HTTPFileSystem, https://ladsweb.modaps.eosdis.nasa.gov/archive/allData/5201/VJ102IMG/2023/148/VJ102IMG.A2023148.1618.021.2023148222308.nc>,\n",
      "              <File-like object HTTPFileSystem, https://ladsweb.modaps.eosdis.nasa.gov/archive/allData/5201/VJ102IMG/2023/148/VJ102IMG.A2023148.1754.021.2023149010604.nc>,\n",
      "              <File-like object HTTPFileSystem, https://ladsweb.modaps.eosdis.nasa.gov/archive/allData/5201/VJ102IMG/2023/149/VJ102IMG.A2023149.0606.021.2023149125407.nc>,\n",
      "              <File-like object HTTPFileSystem, https://ladsweb.modaps.eosdis.nasa.gov/archive/allData/5201/VJ102IMG/2023/149/VJ102IMG.A2023149.0748.021.2023149135514.nc>,\n",
      "              <File-like object HTTPFileSystem, https://ladsweb.modaps.eosdis.nasa.gov/archive/allData/5201/VJ102IMG/2023/149/VJ102IMG.A2023149.1600.021.2023149225958.nc>,\n",
      "              <File-like object HTTPFileSystem, https://ladsweb.modaps.eosdis.nasa.gov/archive/allData/5201/VJ102IMG/2023/149/VJ102IMG.A2023149.1736.021.2023149225503.nc>,\n",
      "              <File-like object HTTPFileSystem, https://ladsweb.modaps.eosdis.nasa.gov/archive/allData/5201/VJ102IMG/2023/150/VJ102IMG.A2023150.0548.021.2023150154543.nc>,\n",
      "              <File-like object HTTPFileSystem, https://ladsweb.modaps.eosdis.nasa.gov/archive/allData/5201/VJ102IMG/2023/150/VJ102IMG.A2023150.0730.021.2023150161300.nc>,\n",
      "              <File-like object HTTPFileSystem, https://ladsweb.modaps.eosdis.nasa.gov/archive/allData/5201/VJ102IMG/2023/150/VJ102IMG.A2023150.1718.021.2023150224057.nc>,\n",
      "              <File-like object HTTPFileSystem, https://ladsweb.modaps.eosdis.nasa.gov/archive/allData/5201/VJ102IMG/2023/150/VJ102IMG.A2023150.1900.021.2023151002652.nc>,\n",
      "              <File-like object HTTPFileSystem, https://ladsweb.modaps.eosdis.nasa.gov/archive/allData/5201/VJ102IMG/2023/151/VJ102IMG.A2023151.0712.021.2023156153900.nc>,\n",
      "              <File-like object HTTPFileSystem, https://ladsweb.modaps.eosdis.nasa.gov/archive/allData/5201/VJ102IMG/2023/151/VJ102IMG.A2023151.0848.021.2023156153908.nc>,\n",
      "              <File-like object HTTPFileSystem, https://ladsweb.modaps.eosdis.nasa.gov/archive/allData/5201/VJ102IMG/2023/151/VJ102IMG.A2023151.1700.021.2023156155758.nc>,\n",
      "              <File-like object HTTPFileSystem, https://ladsweb.modaps.eosdis.nasa.gov/archive/allData/5201/VJ102IMG/2023/151/VJ102IMG.A2023151.1842.021.2023156155034.nc>],\n",
      " 'VJ103IMG': [<File-like object HTTPFileSystem, https://ladsweb.modaps.eosdis.nasa.gov/archive/allData/5201/VJ103IMG/2023/146/VJ103IMG.A2023146.0706.021.2023146122414.nc>,\n",
      "              <File-like object HTTPFileSystem, https://ladsweb.modaps.eosdis.nasa.gov/archive/allData/5201/VJ103IMG/2023/146/VJ103IMG.A2023146.0842.021.2023146140708.nc>,\n",
      "              <File-like object HTTPFileSystem, https://ladsweb.modaps.eosdis.nasa.gov/archive/allData/5201/VJ103IMG/2023/146/VJ103IMG.A2023146.1654.021.2023146222910.nc>,\n",
      "              <File-like object HTTPFileSystem, https://ladsweb.modaps.eosdis.nasa.gov/archive/allData/5201/VJ103IMG/2023/146/VJ103IMG.A2023146.1836.021.2023147001110.nc>,\n",
      "              <File-like object HTTPFileSystem, https://ladsweb.modaps.eosdis.nasa.gov/archive/allData/5201/VJ103IMG/2023/147/VJ103IMG.A2023147.0648.021.2023147124317.nc>,\n",
      "              <File-like object HTTPFileSystem, https://ladsweb.modaps.eosdis.nasa.gov/archive/allData/5201/VJ103IMG/2023/147/VJ103IMG.A2023147.0824.021.2023147134344.nc>,\n",
      "              <File-like object HTTPFileSystem, https://ladsweb.modaps.eosdis.nasa.gov/archive/allData/5201/VJ103IMG/2023/147/VJ103IMG.A2023147.1636.021.2023147221409.nc>,\n",
      "              <File-like object HTTPFileSystem, https://ladsweb.modaps.eosdis.nasa.gov/archive/allData/5201/VJ103IMG/2023/147/VJ103IMG.A2023147.1818.021.2023147235916.nc>,\n",
      "              <File-like object HTTPFileSystem, https://ladsweb.modaps.eosdis.nasa.gov/archive/allData/5201/VJ103IMG/2023/148/VJ103IMG.A2023148.0624.021.2023148114152.nc>,\n",
      "              <File-like object HTTPFileSystem, https://ladsweb.modaps.eosdis.nasa.gov/archive/allData/5201/VJ103IMG/2023/148/VJ103IMG.A2023148.0806.021.2023148142008.nc>,\n",
      "              <File-like object HTTPFileSystem, https://ladsweb.modaps.eosdis.nasa.gov/archive/allData/5201/VJ103IMG/2023/148/VJ103IMG.A2023148.1618.021.2023148215807.nc>,\n",
      "              <File-like object HTTPFileSystem, https://ladsweb.modaps.eosdis.nasa.gov/archive/allData/5201/VJ103IMG/2023/148/VJ103IMG.A2023148.1754.021.2023149003946.nc>,\n",
      "              <File-like object HTTPFileSystem, https://ladsweb.modaps.eosdis.nasa.gov/archive/allData/5201/VJ103IMG/2023/149/VJ103IMG.A2023149.0606.021.2023149122917.nc>,\n",
      "              <File-like object HTTPFileSystem, https://ladsweb.modaps.eosdis.nasa.gov/archive/allData/5201/VJ103IMG/2023/149/VJ103IMG.A2023149.0748.021.2023149122718.nc>,\n",
      "              <File-like object HTTPFileSystem, https://ladsweb.modaps.eosdis.nasa.gov/archive/allData/5201/VJ103IMG/2023/149/VJ103IMG.A2023149.1600.021.2023149223318.nc>,\n",
      "              <File-like object HTTPFileSystem, https://ladsweb.modaps.eosdis.nasa.gov/archive/allData/5201/VJ103IMG/2023/149/VJ103IMG.A2023149.1736.021.2023149222957.nc>,\n",
      "              <File-like object HTTPFileSystem, https://ladsweb.modaps.eosdis.nasa.gov/archive/allData/5201/VJ103IMG/2023/150/VJ103IMG.A2023150.0548.021.2023150101850.nc>,\n",
      "              <File-like object HTTPFileSystem, https://ladsweb.modaps.eosdis.nasa.gov/archive/allData/5201/VJ103IMG/2023/150/VJ103IMG.A2023150.0730.021.2023150154647.nc>,\n",
      "              <File-like object HTTPFileSystem, https://ladsweb.modaps.eosdis.nasa.gov/archive/allData/5201/VJ103IMG/2023/150/VJ103IMG.A2023150.1718.021.2023150221551.nc>,\n",
      "              <File-like object HTTPFileSystem, https://ladsweb.modaps.eosdis.nasa.gov/archive/allData/5201/VJ103IMG/2023/150/VJ103IMG.A2023150.1900.021.2023151000018.nc>,\n",
      "              <File-like object HTTPFileSystem, https://ladsweb.modaps.eosdis.nasa.gov/archive/allData/5201/VJ103IMG/2023/151/VJ103IMG.A2023151.0712.021.2023156132815.nc>,\n",
      "              <File-like object HTTPFileSystem, https://ladsweb.modaps.eosdis.nasa.gov/archive/allData/5201/VJ103IMG/2023/151/VJ103IMG.A2023151.0848.021.2023156132648.nc>,\n",
      "              <File-like object HTTPFileSystem, https://ladsweb.modaps.eosdis.nasa.gov/archive/allData/5201/VJ103IMG/2023/151/VJ103IMG.A2023151.1700.021.2023156141245.nc>,\n",
      "              <File-like object HTTPFileSystem, https://ladsweb.modaps.eosdis.nasa.gov/archive/allData/5201/VJ103IMG/2023/151/VJ103IMG.A2023151.1842.021.2023156140422.nc>],\n",
      " 'VJ114IMG': [<File-like object HTTPFileSystem, https://data.lpdaac.earthdatacloud.nasa.gov/lp-prod-protected/VJ114IMG.002/VJ114IMG.A2023146.0706.002.2024099231304/VJ114IMG.A2023146.0706.002.2024099231304.nc>,\n",
      "              <File-like object HTTPFileSystem, https://data.lpdaac.earthdatacloud.nasa.gov/lp-prod-protected/VJ114IMG.002/VJ114IMG.A2023146.0842.002.2024099231305/VJ114IMG.A2023146.0842.002.2024099231305.nc>,\n",
      "              <File-like object HTTPFileSystem, https://data.lpdaac.earthdatacloud.nasa.gov/lp-prod-protected/VJ114IMG.002/VJ114IMG.A2023146.1654.002.2024099231304/VJ114IMG.A2023146.1654.002.2024099231304.nc>,\n",
      "              <File-like object HTTPFileSystem, https://data.lpdaac.earthdatacloud.nasa.gov/lp-prod-protected/VJ114IMG.002/VJ114IMG.A2023146.1836.002.2024099231304/VJ114IMG.A2023146.1836.002.2024099231304.nc>,\n",
      "              <File-like object HTTPFileSystem, https://data.lpdaac.earthdatacloud.nasa.gov/lp-prod-protected/VJ114IMG.002/VJ114IMG.A2023147.0648.002.2024099233358/VJ114IMG.A2023147.0648.002.2024099233358.nc>,\n",
      "              <File-like object HTTPFileSystem, https://data.lpdaac.earthdatacloud.nasa.gov/lp-prod-protected/VJ114IMG.002/VJ114IMG.A2023147.0824.002.2024099233358/VJ114IMG.A2023147.0824.002.2024099233358.nc>,\n",
      "              <File-like object HTTPFileSystem, https://data.lpdaac.earthdatacloud.nasa.gov/lp-prod-protected/VJ114IMG.002/VJ114IMG.A2023147.1636.002.2024099233400/VJ114IMG.A2023147.1636.002.2024099233400.nc>,\n",
      "              <File-like object HTTPFileSystem, https://data.lpdaac.earthdatacloud.nasa.gov/lp-prod-protected/VJ114IMG.002/VJ114IMG.A2023147.1818.002.2024099233400/VJ114IMG.A2023147.1818.002.2024099233400.nc>,\n",
      "              <File-like object HTTPFileSystem, https://data.lpdaac.earthdatacloud.nasa.gov/lp-prod-protected/VJ114IMG.002/VJ114IMG.A2023148.0624.002.2024099235502/VJ114IMG.A2023148.0624.002.2024099235502.nc>,\n",
      "              <File-like object HTTPFileSystem, https://data.lpdaac.earthdatacloud.nasa.gov/lp-prod-protected/VJ114IMG.002/VJ114IMG.A2023148.0806.002.2024099235502/VJ114IMG.A2023148.0806.002.2024099235502.nc>,\n",
      "              <File-like object HTTPFileSystem, https://data.lpdaac.earthdatacloud.nasa.gov/lp-prod-protected/VJ114IMG.002/VJ114IMG.A2023148.1618.002.2024099235533/VJ114IMG.A2023148.1618.002.2024099235533.nc>,\n",
      "              <File-like object HTTPFileSystem, https://data.lpdaac.earthdatacloud.nasa.gov/lp-prod-protected/VJ114IMG.002/VJ114IMG.A2023148.1754.002.2024099235532/VJ114IMG.A2023148.1754.002.2024099235532.nc>,\n",
      "              <File-like object HTTPFileSystem, https://data.lpdaac.earthdatacloud.nasa.gov/lp-prod-protected/VJ114IMG.002/VJ114IMG.A2023149.0748.002.2024100001635/VJ114IMG.A2023149.0748.002.2024100001635.nc>,\n",
      "              <File-like object HTTPFileSystem, https://data.lpdaac.earthdatacloud.nasa.gov/lp-prod-protected/VJ114IMG.002/VJ114IMG.A2023149.1600.002.2024100001637/VJ114IMG.A2023149.1600.002.2024100001637.nc>,\n",
      "              <File-like object HTTPFileSystem, https://data.lpdaac.earthdatacloud.nasa.gov/lp-prod-protected/VJ114IMG.002/VJ114IMG.A2023149.1736.002.2024100001635/VJ114IMG.A2023149.1736.002.2024100001635.nc>,\n",
      "              <File-like object HTTPFileSystem, https://data.lpdaac.earthdatacloud.nasa.gov/lp-prod-protected/VJ114IMG.002/VJ114IMG.A2023150.0548.002.2024100004837/VJ114IMG.A2023150.0548.002.2024100004837.nc>,\n",
      "              <File-like object HTTPFileSystem, https://data.lpdaac.earthdatacloud.nasa.gov/lp-prod-protected/VJ114IMG.002/VJ114IMG.A2023150.0730.002.2024100004839/VJ114IMG.A2023150.0730.002.2024100004839.nc>,\n",
      "              <File-like object HTTPFileSystem, https://data.lpdaac.earthdatacloud.nasa.gov/lp-prod-protected/VJ114IMG.002/VJ114IMG.A2023150.1718.002.2024100004837/VJ114IMG.A2023150.1718.002.2024100004837.nc>,\n",
      "              <File-like object HTTPFileSystem, https://data.lpdaac.earthdatacloud.nasa.gov/lp-prod-protected/VJ114IMG.002/VJ114IMG.A2023150.1900.002.2024100004838/VJ114IMG.A2023150.1900.002.2024100004838.nc>,\n",
      "              <File-like object HTTPFileSystem, https://data.lpdaac.earthdatacloud.nasa.gov/lp-prod-protected/VJ114IMG.002/VJ114IMG.A2023151.0712.002.2024100011430/VJ114IMG.A2023151.0712.002.2024100011430.nc>,\n",
      "              <File-like object HTTPFileSystem, https://data.lpdaac.earthdatacloud.nasa.gov/lp-prod-protected/VJ114IMG.002/VJ114IMG.A2023151.0848.002.2024100011430/VJ114IMG.A2023151.0848.002.2024100011430.nc>,\n",
      "              <File-like object HTTPFileSystem, https://data.lpdaac.earthdatacloud.nasa.gov/lp-prod-protected/VJ114IMG.002/VJ114IMG.A2023151.1700.002.2024100011431/VJ114IMG.A2023151.1700.002.2024100011431.nc>,\n",
      "              <File-like object HTTPFileSystem, https://data.lpdaac.earthdatacloud.nasa.gov/lp-prod-protected/VJ114IMG.002/VJ114IMG.A2023151.1842.002.2024100011432/VJ114IMG.A2023151.1842.002.2024100011432.nc>]}\n",
      "8720 2023-06-01 16:29:45.621 -76.132443 48.519864 [-76.632443, 48.019864, -75.632443, 49.019864] 2023-05-31 2023-06-06\n",
      "SNPP\n",
      "Granules found: 25\n",
      "NOAA20\n",
      "Granules found: 21\n",
      "proceeding to open data files...\n",
      "Granules found: 25\n",
      "Opening 25 granules, approx size: 3.92 GB\n"
     ]
    },
    {
     "data": {
      "application/vnd.jupyter.widget-view+json": {
       "model_id": "be4e748eb56741faa2bdaaf3ef8b07a0",
       "version_major": 2,
       "version_minor": 0
      },
      "text/plain": [
       "QUEUEING TASKS | :   0%|          | 0/25 [00:00<?, ?it/s]"
      ]
     },
     "metadata": {},
     "output_type": "display_data"
    },
    {
     "data": {
      "application/vnd.jupyter.widget-view+json": {
       "model_id": "912f2d92fc32443e9fea3dc6772968cb",
       "version_major": 2,
       "version_minor": 0
      },
      "text/plain": [
       "PROCESSING TASKS | :   0%|          | 0/25 [00:00<?, ?it/s]"
      ]
     },
     "metadata": {},
     "output_type": "display_data"
    },
    {
     "data": {
      "application/vnd.jupyter.widget-view+json": {
       "model_id": "d9b0848e953e4d84bfd4cc84d85aea26",
       "version_major": 2,
       "version_minor": 0
      },
      "text/plain": [
       "COLLECTING RESULTS | :   0%|          | 0/25 [00:00<?, ?it/s]"
      ]
     },
     "metadata": {},
     "output_type": "display_data"
    },
    {
     "name": "stdout",
     "output_type": "stream",
     "text": [
      "Granules found: 25\n",
      "Opening 25 granules, approx size: 4.62 GB\n"
     ]
    },
    {
     "data": {
      "application/vnd.jupyter.widget-view+json": {
       "model_id": "b0c3b00a11924f2791789c216c038b93",
       "version_major": 2,
       "version_minor": 0
      },
      "text/plain": [
       "QUEUEING TASKS | :   0%|          | 0/25 [00:00<?, ?it/s]"
      ]
     },
     "metadata": {},
     "output_type": "display_data"
    },
    {
     "data": {
      "application/vnd.jupyter.widget-view+json": {
       "model_id": "38e3373c62fb4ed7bf184549666907b0",
       "version_major": 2,
       "version_minor": 0
      },
      "text/plain": [
       "PROCESSING TASKS | :   0%|          | 0/25 [00:00<?, ?it/s]"
      ]
     },
     "metadata": {},
     "output_type": "display_data"
    },
    {
     "data": {
      "application/vnd.jupyter.widget-view+json": {
       "model_id": "ab9977ce86e649e9bdc6dd45640b3153",
       "version_major": 2,
       "version_minor": 0
      },
      "text/plain": [
       "COLLECTING RESULTS | :   0%|          | 0/25 [00:00<?, ?it/s]"
      ]
     },
     "metadata": {},
     "output_type": "display_data"
    },
    {
     "name": "stdout",
     "output_type": "stream",
     "text": [
      "25 hits\n",
      "cloud hosted True\n"
     ]
    },
    {
     "data": {
      "application/vnd.jupyter.widget-view+json": {
       "model_id": "33aa2a38f1b34d5c9d7be99f66124a25",
       "version_major": 2,
       "version_minor": 0
      },
      "text/plain": [
       "QUEUEING TASKS | :   0%|          | 0/25 [00:00<?, ?it/s]"
      ]
     },
     "metadata": {},
     "output_type": "display_data"
    },
    {
     "data": {
      "application/vnd.jupyter.widget-view+json": {
       "model_id": "e849402dead14ce9a9c62b12a352b4fc",
       "version_major": 2,
       "version_minor": 0
      },
      "text/plain": [
       "PROCESSING TASKS | :   0%|          | 0/25 [00:00<?, ?it/s]"
      ]
     },
     "metadata": {},
     "output_type": "display_data"
    },
    {
     "data": {
      "application/vnd.jupyter.widget-view+json": {
       "model_id": "77afdf008f6c41f4b2097d4a19d487fd",
       "version_major": 2,
       "version_minor": 0
      },
      "text/plain": [
       "COLLECTING RESULTS | :   0%|          | 0/25 [00:00<?, ?it/s]"
      ]
     },
     "metadata": {},
     "output_type": "display_data"
    },
    {
     "name": "stdout",
     "output_type": "stream",
     "text": [
      "VNP14IMG\n",
      "{'VNP02IMG': [<File-like object HTTPFileSystem, https://ladsweb.modaps.eosdis.nasa.gov/archive/allData/5200/VNP02IMG/2023/151/VNP02IMG.A2023151.0624.002.2023156160602.nc>,\n",
      "              <File-like object HTTPFileSystem, https://ladsweb.modaps.eosdis.nasa.gov/archive/allData/5200/VNP02IMG/2023/151/VNP02IMG.A2023151.0800.002.2023156161115.nc>,\n",
      "              <File-like object HTTPFileSystem, https://ladsweb.modaps.eosdis.nasa.gov/archive/allData/5200/VNP02IMG/2023/151/VNP02IMG.A2023151.0806.002.2023156161326.nc>,\n",
      "              <File-like object HTTPFileSystem, https://ladsweb.modaps.eosdis.nasa.gov/archive/allData/5200/VNP02IMG/2023/151/VNP02IMG.A2023151.1748.002.2023156161949.nc>,\n",
      "              <File-like object HTTPFileSystem, https://ladsweb.modaps.eosdis.nasa.gov/archive/allData/5200/VNP02IMG/2023/152/VNP02IMG.A2023152.0606.002.2023152165754.nc>,\n",
      "              <File-like object HTTPFileSystem, https://ladsweb.modaps.eosdis.nasa.gov/archive/allData/5200/VNP02IMG/2023/152/VNP02IMG.A2023152.0742.002.2023152170736.nc>,\n",
      "              <File-like object HTTPFileSystem, https://ladsweb.modaps.eosdis.nasa.gov/archive/allData/5200/VNP02IMG/2023/152/VNP02IMG.A2023152.1730.002.2023153003727.nc>,\n",
      "              <File-like object HTTPFileSystem, https://ladsweb.modaps.eosdis.nasa.gov/archive/allData/5200/VNP02IMG/2023/152/VNP02IMG.A2023152.1912.002.2023153024838.nc>,\n",
      "              <File-like object HTTPFileSystem, https://ladsweb.modaps.eosdis.nasa.gov/archive/allData/5200/VNP02IMG/2023/153/VNP02IMG.A2023153.0542.002.2023153122234.nc>,\n",
      "              <File-like object HTTPFileSystem, https://ladsweb.modaps.eosdis.nasa.gov/archive/allData/5200/VNP02IMG/2023/153/VNP02IMG.A2023153.0724.002.2023153140208.nc>,\n",
      "              <File-like object HTTPFileSystem, https://ladsweb.modaps.eosdis.nasa.gov/archive/allData/5200/VNP02IMG/2023/153/VNP02IMG.A2023153.1712.002.2023154002905.nc>,\n",
      "              <File-like object HTTPFileSystem, https://ladsweb.modaps.eosdis.nasa.gov/archive/allData/5200/VNP02IMG/2023/153/VNP02IMG.A2023153.1854.002.2023154020927.nc>,\n",
      "              <File-like object HTTPFileSystem, https://ladsweb.modaps.eosdis.nasa.gov/archive/allData/5200/VNP02IMG/2023/154/VNP02IMG.A2023154.0706.002.2023154141908.nc>,\n",
      "              <File-like object HTTPFileSystem, https://ladsweb.modaps.eosdis.nasa.gov/archive/allData/5200/VNP02IMG/2023/154/VNP02IMG.A2023154.1654.002.2023155001658.nc>,\n",
      "              <File-like object HTTPFileSystem, https://ladsweb.modaps.eosdis.nasa.gov/archive/allData/5200/VNP02IMG/2023/154/VNP02IMG.A2023154.1836.002.2023155015042.nc>,\n",
      "              <File-like object HTTPFileSystem, https://ladsweb.modaps.eosdis.nasa.gov/archive/allData/5200/VNP02IMG/2023/155/VNP02IMG.A2023155.0648.002.2023155152235.nc>,\n",
      "              <File-like object HTTPFileSystem, https://ladsweb.modaps.eosdis.nasa.gov/archive/allData/5200/VNP02IMG/2023/155/VNP02IMG.A2023155.0830.002.2023155171827.nc>,\n",
      "              <File-like object HTTPFileSystem, https://ladsweb.modaps.eosdis.nasa.gov/archive/allData/5200/VNP02IMG/2023/155/VNP02IMG.A2023155.1636.002.2023155234624.nc>,\n",
      "              <File-like object HTTPFileSystem, https://ladsweb.modaps.eosdis.nasa.gov/archive/allData/5200/VNP02IMG/2023/155/VNP02IMG.A2023155.1812.002.2023156030108.nc>,\n",
      "              <File-like object HTTPFileSystem, https://ladsweb.modaps.eosdis.nasa.gov/archive/allData/5200/VNP02IMG/2023/155/VNP02IMG.A2023155.1818.002.2023156030143.nc>,\n",
      "              <File-like object HTTPFileSystem, https://ladsweb.modaps.eosdis.nasa.gov/archive/allData/5200/VNP02IMG/2023/156/VNP02IMG.A2023156.0630.002.2023156165028.nc>,\n",
      "              <File-like object HTTPFileSystem, https://ladsweb.modaps.eosdis.nasa.gov/archive/allData/5200/VNP02IMG/2023/156/VNP02IMG.A2023156.0806.002.2023156170628.nc>,\n",
      "              <File-like object HTTPFileSystem, https://ladsweb.modaps.eosdis.nasa.gov/archive/allData/5200/VNP02IMG/2023/156/VNP02IMG.A2023156.0812.002.2023156170038.nc>,\n",
      "              <File-like object HTTPFileSystem, https://ladsweb.modaps.eosdis.nasa.gov/archive/allData/5200/VNP02IMG/2023/156/VNP02IMG.A2023156.1618.002.2023157011220.nc>,\n",
      "              <File-like object HTTPFileSystem, https://ladsweb.modaps.eosdis.nasa.gov/archive/allData/5200/VNP02IMG/2023/156/VNP02IMG.A2023156.1754.002.2023157024932.nc>],\n",
      " 'VNP03IMG': [<File-like object HTTPFileSystem, https://ladsweb.modaps.eosdis.nasa.gov/archive/allData/5200/VNP03IMG/2023/151/VNP03IMG.A2023151.0624.002.2023156145839.nc>,\n",
      "              <File-like object HTTPFileSystem, https://ladsweb.modaps.eosdis.nasa.gov/archive/allData/5200/VNP03IMG/2023/151/VNP03IMG.A2023151.0800.002.2023156145926.nc>,\n",
      "              <File-like object HTTPFileSystem, https://ladsweb.modaps.eosdis.nasa.gov/archive/allData/5200/VNP03IMG/2023/151/VNP03IMG.A2023151.0806.002.2023156145739.nc>,\n",
      "              <File-like object HTTPFileSystem, https://ladsweb.modaps.eosdis.nasa.gov/archive/allData/5200/VNP03IMG/2023/151/VNP03IMG.A2023151.1748.002.2023156151118.nc>,\n",
      "              <File-like object HTTPFileSystem, https://ladsweb.modaps.eosdis.nasa.gov/archive/allData/5200/VNP03IMG/2023/152/VNP03IMG.A2023152.0606.002.2023152160851.nc>,\n",
      "              <File-like object HTTPFileSystem, https://ladsweb.modaps.eosdis.nasa.gov/archive/allData/5200/VNP03IMG/2023/152/VNP03IMG.A2023152.0742.002.2023152161316.nc>,\n",
      "              <File-like object HTTPFileSystem, https://ladsweb.modaps.eosdis.nasa.gov/archive/allData/5200/VNP03IMG/2023/152/VNP03IMG.A2023152.1730.002.2023153001838.nc>,\n",
      "              <File-like object HTTPFileSystem, https://ladsweb.modaps.eosdis.nasa.gov/archive/allData/5200/VNP03IMG/2023/152/VNP03IMG.A2023152.1912.002.2023153022856.nc>,\n",
      "              <File-like object HTTPFileSystem, https://ladsweb.modaps.eosdis.nasa.gov/archive/allData/5200/VNP03IMG/2023/153/VNP03IMG.A2023153.0542.002.2023153120429.nc>,\n",
      "              <File-like object HTTPFileSystem, https://ladsweb.modaps.eosdis.nasa.gov/archive/allData/5200/VNP03IMG/2023/153/VNP03IMG.A2023153.0724.002.2023153134457.nc>,\n",
      "              <File-like object HTTPFileSystem, https://ladsweb.modaps.eosdis.nasa.gov/archive/allData/5200/VNP03IMG/2023/153/VNP03IMG.A2023153.1712.002.2023154000902.nc>,\n",
      "              <File-like object HTTPFileSystem, https://ladsweb.modaps.eosdis.nasa.gov/archive/allData/5200/VNP03IMG/2023/153/VNP03IMG.A2023153.1854.002.2023154015002.nc>,\n",
      "              <File-like object HTTPFileSystem, https://ladsweb.modaps.eosdis.nasa.gov/archive/allData/5200/VNP03IMG/2023/154/VNP03IMG.A2023154.0706.002.2023154140327.nc>,\n",
      "              <File-like object HTTPFileSystem, https://ladsweb.modaps.eosdis.nasa.gov/archive/allData/5200/VNP03IMG/2023/154/VNP03IMG.A2023154.1654.002.2023154235729.nc>,\n",
      "              <File-like object HTTPFileSystem, https://ladsweb.modaps.eosdis.nasa.gov/archive/allData/5200/VNP03IMG/2023/154/VNP03IMG.A2023154.1836.002.2023155013405.nc>,\n",
      "              <File-like object HTTPFileSystem, https://ladsweb.modaps.eosdis.nasa.gov/archive/allData/5200/VNP03IMG/2023/155/VNP03IMG.A2023155.0648.002.2023155150734.nc>,\n",
      "              <File-like object HTTPFileSystem, https://ladsweb.modaps.eosdis.nasa.gov/archive/allData/5200/VNP03IMG/2023/155/VNP03IMG.A2023155.0830.002.2023155170223.nc>,\n",
      "              <File-like object HTTPFileSystem, https://ladsweb.modaps.eosdis.nasa.gov/archive/allData/5200/VNP03IMG/2023/155/VNP03IMG.A2023155.1636.002.2023155232823.nc>,\n",
      "              <File-like object HTTPFileSystem, https://ladsweb.modaps.eosdis.nasa.gov/archive/allData/5200/VNP03IMG/2023/155/VNP03IMG.A2023155.1812.002.2023156024428.nc>,\n",
      "              <File-like object HTTPFileSystem, https://ladsweb.modaps.eosdis.nasa.gov/archive/allData/5200/VNP03IMG/2023/155/VNP03IMG.A2023155.1818.002.2023156024431.nc>,\n",
      "              <File-like object HTTPFileSystem, https://ladsweb.modaps.eosdis.nasa.gov/archive/allData/5200/VNP03IMG/2023/156/VNP03IMG.A2023156.0630.002.2023156162344.nc>,\n",
      "              <File-like object HTTPFileSystem, https://ladsweb.modaps.eosdis.nasa.gov/archive/allData/5200/VNP03IMG/2023/156/VNP03IMG.A2023156.0806.002.2023156164435.nc>,\n",
      "              <File-like object HTTPFileSystem, https://ladsweb.modaps.eosdis.nasa.gov/archive/allData/5200/VNP03IMG/2023/156/VNP03IMG.A2023156.0812.002.2023156163935.nc>,\n",
      "              <File-like object HTTPFileSystem, https://ladsweb.modaps.eosdis.nasa.gov/archive/allData/5200/VNP03IMG/2023/156/VNP03IMG.A2023156.1618.002.2023157005455.nc>,\n",
      "              <File-like object HTTPFileSystem, https://ladsweb.modaps.eosdis.nasa.gov/archive/allData/5200/VNP03IMG/2023/156/VNP03IMG.A2023156.1754.002.2023157023139.nc>],\n",
      " 'VNP14IMG': [<File-like object HTTPFileSystem, https://data.lpdaac.earthdatacloud.nasa.gov/lp-prod-protected/VNP14IMG.002/VNP14IMG.A2023151.0624.002.2024079110217/VNP14IMG.A2023151.0624.002.2024079110217.nc>,\n",
      "              <File-like object HTTPFileSystem, https://data.lpdaac.earthdatacloud.nasa.gov/lp-prod-protected/VNP14IMG.002/VNP14IMG.A2023151.0800.002.2024079110216/VNP14IMG.A2023151.0800.002.2024079110216.nc>,\n",
      "              <File-like object HTTPFileSystem, https://data.lpdaac.earthdatacloud.nasa.gov/lp-prod-protected/VNP14IMG.002/VNP14IMG.A2023151.0806.002.2024079110220/VNP14IMG.A2023151.0806.002.2024079110220.nc>,\n",
      "              <File-like object HTTPFileSystem, https://data.lpdaac.earthdatacloud.nasa.gov/lp-prod-protected/VNP14IMG.002/VNP14IMG.A2023151.1748.002.2024079110218/VNP14IMG.A2023151.1748.002.2024079110218.nc>,\n",
      "              <File-like object HTTPFileSystem, https://data.lpdaac.earthdatacloud.nasa.gov/lp-prod-protected/VNP14IMG.002/VNP14IMG.A2023152.0606.002.2024079111120/VNP14IMG.A2023152.0606.002.2024079111120.nc>,\n",
      "              <File-like object HTTPFileSystem, https://data.lpdaac.earthdatacloud.nasa.gov/lp-prod-protected/VNP14IMG.002/VNP14IMG.A2023152.0742.002.2024079111123/VNP14IMG.A2023152.0742.002.2024079111123.nc>,\n",
      "              <File-like object HTTPFileSystem, https://data.lpdaac.earthdatacloud.nasa.gov/lp-prod-protected/VNP14IMG.002/VNP14IMG.A2023152.1730.002.2024079111124/VNP14IMG.A2023152.1730.002.2024079111124.nc>,\n",
      "              <File-like object HTTPFileSystem, https://data.lpdaac.earthdatacloud.nasa.gov/lp-prod-protected/VNP14IMG.002/VNP14IMG.A2023152.1912.002.2024079111122/VNP14IMG.A2023152.1912.002.2024079111122.nc>,\n",
      "              <File-like object HTTPFileSystem, https://data.lpdaac.earthdatacloud.nasa.gov/lp-prod-protected/VNP14IMG.002/VNP14IMG.A2023153.0542.002.2024079112150/VNP14IMG.A2023153.0542.002.2024079112150.nc>,\n",
      "              <File-like object HTTPFileSystem, https://data.lpdaac.earthdatacloud.nasa.gov/lp-prod-protected/VNP14IMG.002/VNP14IMG.A2023153.0724.002.2024079112152/VNP14IMG.A2023153.0724.002.2024079112152.nc>,\n",
      "              <File-like object HTTPFileSystem, https://data.lpdaac.earthdatacloud.nasa.gov/lp-prod-protected/VNP14IMG.002/VNP14IMG.A2023153.1712.002.2024079112151/VNP14IMG.A2023153.1712.002.2024079112151.nc>,\n",
      "              <File-like object HTTPFileSystem, https://data.lpdaac.earthdatacloud.nasa.gov/lp-prod-protected/VNP14IMG.002/VNP14IMG.A2023153.1854.002.2024079112152/VNP14IMG.A2023153.1854.002.2024079112152.nc>,\n",
      "              <File-like object HTTPFileSystem, https://data.lpdaac.earthdatacloud.nasa.gov/lp-prod-protected/VNP14IMG.002/VNP14IMG.A2023154.0706.002.2024079113320/VNP14IMG.A2023154.0706.002.2024079113320.nc>,\n",
      "              <File-like object HTTPFileSystem, https://data.lpdaac.earthdatacloud.nasa.gov/lp-prod-protected/VNP14IMG.002/VNP14IMG.A2023154.1654.002.2024079113324/VNP14IMG.A2023154.1654.002.2024079113324.nc>,\n",
      "              <File-like object HTTPFileSystem, https://data.lpdaac.earthdatacloud.nasa.gov/lp-prod-protected/VNP14IMG.002/VNP14IMG.A2023154.1836.002.2024079113323/VNP14IMG.A2023154.1836.002.2024079113323.nc>,\n",
      "              <File-like object HTTPFileSystem, https://data.lpdaac.earthdatacloud.nasa.gov/lp-prod-protected/VNP14IMG.002/VNP14IMG.A2023155.0648.002.2024079115021/VNP14IMG.A2023155.0648.002.2024079115021.nc>,\n",
      "              <File-like object HTTPFileSystem, https://data.lpdaac.earthdatacloud.nasa.gov/lp-prod-protected/VNP14IMG.002/VNP14IMG.A2023155.0830.002.2024079115019/VNP14IMG.A2023155.0830.002.2024079115019.nc>,\n",
      "              <File-like object HTTPFileSystem, https://data.lpdaac.earthdatacloud.nasa.gov/lp-prod-protected/VNP14IMG.002/VNP14IMG.A2023155.1636.002.2024079115019/VNP14IMG.A2023155.1636.002.2024079115019.nc>,\n",
      "              <File-like object HTTPFileSystem, https://data.lpdaac.earthdatacloud.nasa.gov/lp-prod-protected/VNP14IMG.002/VNP14IMG.A2023155.1812.002.2024079115016/VNP14IMG.A2023155.1812.002.2024079115016.nc>,\n",
      "              <File-like object HTTPFileSystem, https://data.lpdaac.earthdatacloud.nasa.gov/lp-prod-protected/VNP14IMG.002/VNP14IMG.A2023155.1818.002.2024079115016/VNP14IMG.A2023155.1818.002.2024079115016.nc>,\n",
      "              <File-like object HTTPFileSystem, https://data.lpdaac.earthdatacloud.nasa.gov/lp-prod-protected/VNP14IMG.002/VNP14IMG.A2023156.0630.002.2024079120153/VNP14IMG.A2023156.0630.002.2024079120153.nc>,\n",
      "              <File-like object HTTPFileSystem, https://data.lpdaac.earthdatacloud.nasa.gov/lp-prod-protected/VNP14IMG.002/VNP14IMG.A2023156.0806.002.2024079120154/VNP14IMG.A2023156.0806.002.2024079120154.nc>,\n",
      "              <File-like object HTTPFileSystem, https://data.lpdaac.earthdatacloud.nasa.gov/lp-prod-protected/VNP14IMG.002/VNP14IMG.A2023156.0812.002.2024079120152/VNP14IMG.A2023156.0812.002.2024079120152.nc>,\n",
      "              <File-like object HTTPFileSystem, https://data.lpdaac.earthdatacloud.nasa.gov/lp-prod-protected/VNP14IMG.002/VNP14IMG.A2023156.1618.002.2024079120152/VNP14IMG.A2023156.1618.002.2024079120152.nc>,\n",
      "              <File-like object HTTPFileSystem, https://data.lpdaac.earthdatacloud.nasa.gov/lp-prod-protected/VNP14IMG.002/VNP14IMG.A2023156.1754.002.2024079120155/VNP14IMG.A2023156.1754.002.2024079120155.nc>]}\n",
      "Granules found: 21\n",
      "Opening 21 granules, approx size: 3.28 GB\n"
     ]
    },
    {
     "data": {
      "application/vnd.jupyter.widget-view+json": {
       "model_id": "7a013f49ae6d4ef2ae608a133fbcc32f",
       "version_major": 2,
       "version_minor": 0
      },
      "text/plain": [
       "QUEUEING TASKS | :   0%|          | 0/21 [00:00<?, ?it/s]"
      ]
     },
     "metadata": {},
     "output_type": "display_data"
    },
    {
     "data": {
      "application/vnd.jupyter.widget-view+json": {
       "model_id": "f80fb85d06534014abf3203a35da91fb",
       "version_major": 2,
       "version_minor": 0
      },
      "text/plain": [
       "PROCESSING TASKS | :   0%|          | 0/21 [00:00<?, ?it/s]"
      ]
     },
     "metadata": {},
     "output_type": "display_data"
    },
    {
     "data": {
      "application/vnd.jupyter.widget-view+json": {
       "model_id": "6336208f3024458b923780e3a3f27395",
       "version_major": 2,
       "version_minor": 0
      },
      "text/plain": [
       "COLLECTING RESULTS | :   0%|          | 0/21 [00:00<?, ?it/s]"
      ]
     },
     "metadata": {},
     "output_type": "display_data"
    },
    {
     "name": "stdout",
     "output_type": "stream",
     "text": [
      "Granules found: 21\n",
      "Opening 21 granules, approx size: 4.0 GB\n"
     ]
    },
    {
     "data": {
      "application/vnd.jupyter.widget-view+json": {
       "model_id": "e35cd5b150a04ec682e550fb394783bf",
       "version_major": 2,
       "version_minor": 0
      },
      "text/plain": [
       "QUEUEING TASKS | :   0%|          | 0/21 [00:00<?, ?it/s]"
      ]
     },
     "metadata": {},
     "output_type": "display_data"
    },
    {
     "data": {
      "application/vnd.jupyter.widget-view+json": {
       "model_id": "91bdfcc3ac9447358fd53189e632f11b",
       "version_major": 2,
       "version_minor": 0
      },
      "text/plain": [
       "PROCESSING TASKS | :   0%|          | 0/21 [00:00<?, ?it/s]"
      ]
     },
     "metadata": {},
     "output_type": "display_data"
    },
    {
     "data": {
      "application/vnd.jupyter.widget-view+json": {
       "model_id": "26912b46f89b46e385d1dae81c856dd0",
       "version_major": 2,
       "version_minor": 0
      },
      "text/plain": [
       "COLLECTING RESULTS | :   0%|          | 0/21 [00:00<?, ?it/s]"
      ]
     },
     "metadata": {},
     "output_type": "display_data"
    },
    {
     "name": "stdout",
     "output_type": "stream",
     "text": [
      "21 hits\n",
      "cloud hosted True\n"
     ]
    },
    {
     "data": {
      "application/vnd.jupyter.widget-view+json": {
       "model_id": "cfa4aefaf6444be7b414dd4656e56cae",
       "version_major": 2,
       "version_minor": 0
      },
      "text/plain": [
       "QUEUEING TASKS | :   0%|          | 0/21 [00:00<?, ?it/s]"
      ]
     },
     "metadata": {},
     "output_type": "display_data"
    },
    {
     "data": {
      "application/vnd.jupyter.widget-view+json": {
       "model_id": "b5966beb111f4ef4a77a69bb2c557ae9",
       "version_major": 2,
       "version_minor": 0
      },
      "text/plain": [
       "PROCESSING TASKS | :   0%|          | 0/21 [00:00<?, ?it/s]"
      ]
     },
     "metadata": {},
     "output_type": "display_data"
    },
    {
     "data": {
      "application/vnd.jupyter.widget-view+json": {
       "model_id": "6e2e90f09d864932ba70750b6859b5ad",
       "version_major": 2,
       "version_minor": 0
      },
      "text/plain": [
       "COLLECTING RESULTS | :   0%|          | 0/21 [00:00<?, ?it/s]"
      ]
     },
     "metadata": {},
     "output_type": "display_data"
    },
    {
     "name": "stdout",
     "output_type": "stream",
     "text": [
      "VJ114IMG\n",
      "{'VJ102IMG': [<File-like object HTTPFileSystem, https://ladsweb.modaps.eosdis.nasa.gov/archive/allData/5201/VJ102IMG/2023/151/VJ102IMG.A2023151.0712.021.2023156153900.nc>,\n",
      "              <File-like object HTTPFileSystem, https://ladsweb.modaps.eosdis.nasa.gov/archive/allData/5201/VJ102IMG/2023/151/VJ102IMG.A2023151.1700.021.2023156155758.nc>,\n",
      "              <File-like object HTTPFileSystem, https://ladsweb.modaps.eosdis.nasa.gov/archive/allData/5201/VJ102IMG/2023/151/VJ102IMG.A2023151.1842.021.2023156155034.nc>,\n",
      "              <File-like object HTTPFileSystem, https://ladsweb.modaps.eosdis.nasa.gov/archive/allData/5201/VJ102IMG/2023/152/VJ102IMG.A2023152.0654.021.2023152171417.nc>,\n",
      "              <File-like object HTTPFileSystem, https://ladsweb.modaps.eosdis.nasa.gov/archive/allData/5201/VJ102IMG/2023/152/VJ102IMG.A2023152.0836.021.2023152170951.nc>,\n",
      "              <File-like object HTTPFileSystem, https://ladsweb.modaps.eosdis.nasa.gov/archive/allData/5201/VJ102IMG/2023/152/VJ102IMG.A2023152.1642.021.2023152223959.nc>,\n",
      "              <File-like object HTTPFileSystem, https://ladsweb.modaps.eosdis.nasa.gov/archive/allData/5201/VJ102IMG/2023/152/VJ102IMG.A2023152.1818.021.2023153002939.nc>,\n",
      "              <File-like object HTTPFileSystem, https://ladsweb.modaps.eosdis.nasa.gov/archive/allData/5201/VJ102IMG/2023/153/VJ102IMG.A2023153.0636.021.2023153121829.nc>,\n",
      "              <File-like object HTTPFileSystem, https://ladsweb.modaps.eosdis.nasa.gov/archive/allData/5201/VJ102IMG/2023/153/VJ102IMG.A2023153.0812.021.2023153145346.nc>,\n",
      "              <File-like object HTTPFileSystem, https://ladsweb.modaps.eosdis.nasa.gov/archive/allData/5201/VJ102IMG/2023/153/VJ102IMG.A2023153.1624.021.2023153222637.nc>,\n",
      "              <File-like object HTTPFileSystem, https://ladsweb.modaps.eosdis.nasa.gov/archive/allData/5201/VJ102IMG/2023/153/VJ102IMG.A2023153.1800.021.2023154001442.nc>,\n",
      "              <File-like object HTTPFileSystem, https://ladsweb.modaps.eosdis.nasa.gov/archive/allData/5201/VJ102IMG/2023/154/VJ102IMG.A2023154.0618.021.2023154134854.nc>,\n",
      "              <File-like object HTTPFileSystem, https://ladsweb.modaps.eosdis.nasa.gov/archive/allData/5201/VJ102IMG/2023/154/VJ102IMG.A2023154.0754.021.2023154143844.nc>,\n",
      "              <File-like object HTTPFileSystem, https://ladsweb.modaps.eosdis.nasa.gov/archive/allData/5201/VJ102IMG/2023/154/VJ102IMG.A2023154.1742.021.2023154232125.nc>,\n",
      "              <File-like object HTTPFileSystem, https://ladsweb.modaps.eosdis.nasa.gov/archive/allData/5201/VJ102IMG/2023/155/VJ102IMG.A2023155.0554.021.2023155123438.nc>,\n",
      "              <File-like object HTTPFileSystem, https://ladsweb.modaps.eosdis.nasa.gov/archive/allData/5201/VJ102IMG/2023/155/VJ102IMG.A2023155.0736.021.2023155123504.nc>,\n",
      "              <File-like object HTTPFileSystem, https://ladsweb.modaps.eosdis.nasa.gov/archive/allData/5201/VJ102IMG/2023/155/VJ102IMG.A2023155.1724.021.2023155224935.nc>,\n",
      "              <File-like object HTTPFileSystem, https://ladsweb.modaps.eosdis.nasa.gov/archive/allData/5201/VJ102IMG/2023/155/VJ102IMG.A2023155.1906.021.2023156004533.nc>,\n",
      "              <File-like object HTTPFileSystem, https://ladsweb.modaps.eosdis.nasa.gov/archive/allData/5201/VJ102IMG/2023/156/VJ102IMG.A2023156.0718.021.2023156121520.nc>,\n",
      "              <File-like object HTTPFileSystem, https://ladsweb.modaps.eosdis.nasa.gov/archive/allData/5201/VJ102IMG/2023/156/VJ102IMG.A2023156.1706.021.2023156222059.nc>,\n",
      "              <File-like object HTTPFileSystem, https://ladsweb.modaps.eosdis.nasa.gov/archive/allData/5201/VJ102IMG/2023/156/VJ102IMG.A2023156.1848.021.2023157010120.nc>],\n",
      " 'VJ103IMG': [<File-like object HTTPFileSystem, https://ladsweb.modaps.eosdis.nasa.gov/archive/allData/5201/VJ103IMG/2023/151/VJ103IMG.A2023151.0712.021.2023156132815.nc>,\n",
      "              <File-like object HTTPFileSystem, https://ladsweb.modaps.eosdis.nasa.gov/archive/allData/5201/VJ103IMG/2023/151/VJ103IMG.A2023151.1700.021.2023156141245.nc>,\n",
      "              <File-like object HTTPFileSystem, https://ladsweb.modaps.eosdis.nasa.gov/archive/allData/5201/VJ103IMG/2023/151/VJ103IMG.A2023151.1842.021.2023156140422.nc>,\n",
      "              <File-like object HTTPFileSystem, https://ladsweb.modaps.eosdis.nasa.gov/archive/allData/5201/VJ103IMG/2023/152/VJ103IMG.A2023152.0654.021.2023152161012.nc>,\n",
      "              <File-like object HTTPFileSystem, https://ladsweb.modaps.eosdis.nasa.gov/archive/allData/5201/VJ103IMG/2023/152/VJ103IMG.A2023152.0836.021.2023152155638.nc>,\n",
      "              <File-like object HTTPFileSystem, https://ladsweb.modaps.eosdis.nasa.gov/archive/allData/5201/VJ103IMG/2023/152/VJ103IMG.A2023152.1642.021.2023152221308.nc>,\n",
      "              <File-like object HTTPFileSystem, https://ladsweb.modaps.eosdis.nasa.gov/archive/allData/5201/VJ103IMG/2023/152/VJ103IMG.A2023152.1818.021.2023153000131.nc>,\n",
      "              <File-like object HTTPFileSystem, https://ladsweb.modaps.eosdis.nasa.gov/archive/allData/5201/VJ103IMG/2023/153/VJ103IMG.A2023153.0636.021.2023153115528.nc>,\n",
      "              <File-like object HTTPFileSystem, https://ladsweb.modaps.eosdis.nasa.gov/archive/allData/5201/VJ103IMG/2023/153/VJ103IMG.A2023153.0812.021.2023153142857.nc>,\n",
      "              <File-like object HTTPFileSystem, https://ladsweb.modaps.eosdis.nasa.gov/archive/allData/5201/VJ103IMG/2023/153/VJ103IMG.A2023153.1624.021.2023153220232.nc>,\n",
      "              <File-like object HTTPFileSystem, https://ladsweb.modaps.eosdis.nasa.gov/archive/allData/5201/VJ103IMG/2023/153/VJ103IMG.A2023153.1800.021.2023153234927.nc>,\n",
      "              <File-like object HTTPFileSystem, https://ladsweb.modaps.eosdis.nasa.gov/archive/allData/5201/VJ103IMG/2023/154/VJ103IMG.A2023154.0618.021.2023154131725.nc>,\n",
      "              <File-like object HTTPFileSystem, https://ladsweb.modaps.eosdis.nasa.gov/archive/allData/5201/VJ103IMG/2023/154/VJ103IMG.A2023154.0754.021.2023154141401.nc>,\n",
      "              <File-like object HTTPFileSystem, https://ladsweb.modaps.eosdis.nasa.gov/archive/allData/5201/VJ103IMG/2023/154/VJ103IMG.A2023154.1742.021.2023154225158.nc>,\n",
      "              <File-like object HTTPFileSystem, https://ladsweb.modaps.eosdis.nasa.gov/archive/allData/5201/VJ103IMG/2023/155/VJ103IMG.A2023155.0554.021.2023155121025.nc>,\n",
      "              <File-like object HTTPFileSystem, https://ladsweb.modaps.eosdis.nasa.gov/archive/allData/5201/VJ103IMG/2023/155/VJ103IMG.A2023155.0736.021.2023155121022.nc>,\n",
      "              <File-like object HTTPFileSystem, https://ladsweb.modaps.eosdis.nasa.gov/archive/allData/5201/VJ103IMG/2023/155/VJ103IMG.A2023155.1724.021.2023155222224.nc>,\n",
      "              <File-like object HTTPFileSystem, https://ladsweb.modaps.eosdis.nasa.gov/archive/allData/5201/VJ103IMG/2023/155/VJ103IMG.A2023155.1906.021.2023156001855.nc>,\n",
      "              <File-like object HTTPFileSystem, https://ladsweb.modaps.eosdis.nasa.gov/archive/allData/5201/VJ103IMG/2023/156/VJ103IMG.A2023156.0718.021.2023156114901.nc>,\n",
      "              <File-like object HTTPFileSystem, https://ladsweb.modaps.eosdis.nasa.gov/archive/allData/5201/VJ103IMG/2023/156/VJ103IMG.A2023156.1706.021.2023156215559.nc>,\n",
      "              <File-like object HTTPFileSystem, https://ladsweb.modaps.eosdis.nasa.gov/archive/allData/5201/VJ103IMG/2023/156/VJ103IMG.A2023156.1848.021.2023157003127.nc>],\n",
      " 'VJ114IMG': [<File-like object HTTPFileSystem, https://data.lpdaac.earthdatacloud.nasa.gov/lp-prod-protected/VJ114IMG.002/VJ114IMG.A2023151.0712.002.2024100011430/VJ114IMG.A2023151.0712.002.2024100011430.nc>,\n",
      "              <File-like object HTTPFileSystem, https://data.lpdaac.earthdatacloud.nasa.gov/lp-prod-protected/VJ114IMG.002/VJ114IMG.A2023151.1700.002.2024100011431/VJ114IMG.A2023151.1700.002.2024100011431.nc>,\n",
      "              <File-like object HTTPFileSystem, https://data.lpdaac.earthdatacloud.nasa.gov/lp-prod-protected/VJ114IMG.002/VJ114IMG.A2023151.1842.002.2024100011432/VJ114IMG.A2023151.1842.002.2024100011432.nc>,\n",
      "              <File-like object HTTPFileSystem, https://data.lpdaac.earthdatacloud.nasa.gov/lp-prod-protected/VJ114IMG.002/VJ114IMG.A2023152.0654.002.2024100014318/VJ114IMG.A2023152.0654.002.2024100014318.nc>,\n",
      "              <File-like object HTTPFileSystem, https://data.lpdaac.earthdatacloud.nasa.gov/lp-prod-protected/VJ114IMG.002/VJ114IMG.A2023152.0836.002.2024100014324/VJ114IMG.A2023152.0836.002.2024100014324.nc>,\n",
      "              <File-like object HTTPFileSystem, https://data.lpdaac.earthdatacloud.nasa.gov/lp-prod-protected/VJ114IMG.002/VJ114IMG.A2023152.1642.002.2024100014319/VJ114IMG.A2023152.1642.002.2024100014319.nc>,\n",
      "              <File-like object HTTPFileSystem, https://data.lpdaac.earthdatacloud.nasa.gov/lp-prod-protected/VJ114IMG.002/VJ114IMG.A2023152.1818.002.2024100014321/VJ114IMG.A2023152.1818.002.2024100014321.nc>,\n",
      "              <File-like object HTTPFileSystem, https://data.lpdaac.earthdatacloud.nasa.gov/lp-prod-protected/VJ114IMG.002/VJ114IMG.A2023153.0636.002.2024100021344/VJ114IMG.A2023153.0636.002.2024100021344.nc>,\n",
      "              <File-like object HTTPFileSystem, https://data.lpdaac.earthdatacloud.nasa.gov/lp-prod-protected/VJ114IMG.002/VJ114IMG.A2023153.0812.002.2024100021342/VJ114IMG.A2023153.0812.002.2024100021342.nc>,\n",
      "              <File-like object HTTPFileSystem, https://data.lpdaac.earthdatacloud.nasa.gov/lp-prod-protected/VJ114IMG.002/VJ114IMG.A2023153.1624.002.2024100021339/VJ114IMG.A2023153.1624.002.2024100021339.nc>,\n",
      "              <File-like object HTTPFileSystem, https://data.lpdaac.earthdatacloud.nasa.gov/lp-prod-protected/VJ114IMG.002/VJ114IMG.A2023153.1800.002.2024100021341/VJ114IMG.A2023153.1800.002.2024100021341.nc>,\n",
      "              <File-like object HTTPFileSystem, https://data.lpdaac.earthdatacloud.nasa.gov/lp-prod-protected/VJ114IMG.002/VJ114IMG.A2023154.0618.002.2024100024309/VJ114IMG.A2023154.0618.002.2024100024309.nc>,\n",
      "              <File-like object HTTPFileSystem, https://data.lpdaac.earthdatacloud.nasa.gov/lp-prod-protected/VJ114IMG.002/VJ114IMG.A2023154.0754.002.2024100024313/VJ114IMG.A2023154.0754.002.2024100024313.nc>,\n",
      "              <File-like object HTTPFileSystem, https://data.lpdaac.earthdatacloud.nasa.gov/lp-prod-protected/VJ114IMG.002/VJ114IMG.A2023154.1742.002.2024100024312/VJ114IMG.A2023154.1742.002.2024100024312.nc>,\n",
      "              <File-like object HTTPFileSystem, https://data.lpdaac.earthdatacloud.nasa.gov/lp-prod-protected/VJ114IMG.002/VJ114IMG.A2023155.0554.002.2024100030611/VJ114IMG.A2023155.0554.002.2024100030611.nc>,\n",
      "              <File-like object HTTPFileSystem, https://data.lpdaac.earthdatacloud.nasa.gov/lp-prod-protected/VJ114IMG.002/VJ114IMG.A2023155.0736.002.2024100030610/VJ114IMG.A2023155.0736.002.2024100030610.nc>,\n",
      "              <File-like object HTTPFileSystem, https://data.lpdaac.earthdatacloud.nasa.gov/lp-prod-protected/VJ114IMG.002/VJ114IMG.A2023155.1724.002.2024100030616/VJ114IMG.A2023155.1724.002.2024100030616.nc>,\n",
      "              <File-like object HTTPFileSystem, https://data.lpdaac.earthdatacloud.nasa.gov/lp-prod-protected/VJ114IMG.002/VJ114IMG.A2023155.1906.002.2024100030611/VJ114IMG.A2023155.1906.002.2024100030611.nc>,\n",
      "              <File-like object HTTPFileSystem, https://data.lpdaac.earthdatacloud.nasa.gov/lp-prod-protected/VJ114IMG.002/VJ114IMG.A2023156.0718.002.2024100032912/VJ114IMG.A2023156.0718.002.2024100032912.nc>,\n",
      "              <File-like object HTTPFileSystem, https://data.lpdaac.earthdatacloud.nasa.gov/lp-prod-protected/VJ114IMG.002/VJ114IMG.A2023156.1706.002.2024100032912/VJ114IMG.A2023156.1706.002.2024100032912.nc>,\n",
      "              <File-like object HTTPFileSystem, https://data.lpdaac.earthdatacloud.nasa.gov/lp-prod-protected/VJ114IMG.002/VJ114IMG.A2023156.1848.002.2024100032913/VJ114IMG.A2023156.1848.002.2024100032913.nc>]}\n"
     ]
    }
   ],
   "source": [
    "#%%time\n",
    "\n",
    "#conda activate /projects/myenvs/candidates-env\n",
    "import xarray as xr\n",
    "import earthaccess\n",
    "from earthaccess import Auth, Store, DataCollections, DataGranules\n",
    "import datetime as dt\n",
    "from datetime import timedelta\n",
    "import time\n",
    "import os\n",
    "from pprint import pprint\n",
    "import geopandas as gpd\n",
    "import numpy as np\n",
    "import matplotlib.pyplot as plt\n",
    "import folium\n",
    "import cartopy\n",
    "import cartopy.crs as ccrs\n",
    "import cartopy.feature as cfeature\n",
    "import pandas as pd\n",
    "import rioxarray\n",
    "from scipy.spatial.distance import cdist\n",
    "import matplotlib as mpl\n",
    "from matplotlib.colors import ListedColormap\n",
    "\n",
    "#set output and input file locations\n",
    "output_dir = '/projects/my-public-bucket/outputs/quebec_lightning/' #CHANGE AS NEEDED FOR USER\n",
    "file = f'/projects/my-public-bucket/scripts/quebec_lightning/Quebec_20_day_lightning_file_NO_CIFFC.csv'\n",
    "lightn = pd.read_csv(file, header=0, usecols=[\"fireID\", \"t\", \"lt_lat\", \"lt_lon\", \"geometry\"])\n",
    "#gdf = gpd.read_file(file)\n",
    "\n",
    "#search for only non-NULL values in lt_lat field\n",
    "strikes = lightn.loc[~np.isnan(lightn.lt_lat), :]\n",
    "\n",
    "#print(strikes)\n",
    "\n",
    "# poly = lightn.loc[~pd.isna(lightn.geometry)]\n",
    "# print(poly)\n",
    "\n",
    "for i in strikes.index[:2]: \n",
    "    fire_id = strikes.loc[i, 'fireID']\n",
    "    lat = strikes.loc[i, 'lt_lat']\n",
    "    lon = strikes.loc[i, 'lt_lon']\n",
    "    time = strikes.loc[i, 't'] \n",
    "\n",
    "#initialize variables\n",
    "#make folders for each fire in the index if not already exists\n",
    "    folderpath = f'{output_dir}/{fire_id}/' #CHANGE AS NEEDED FOR USER\n",
    "    if not os.path.exists(folderpath):\n",
    "        os.mkdir(folderpath)\n",
    "\n",
    "    #print(\"The date and time is : \", time)\n",
    "\n",
    "    date_object = dt.datetime.strptime(time, (\"%Y-%m-%d %H:%M:%S.%f\"))  \n",
    "    #print(fire_id, time, lat, lon)\n",
    "\n",
    "#for each index value, subtract 1 day and add 5 days to original time\n",
    "    start_date = date_object + dt.timedelta(-1)\n",
    "    end_date = date_object + dt.timedelta(+5)\n",
    "\n",
    "    start_date = start_date.strftime(\"%Y-%m-%d\")\n",
    "    end_date = end_date.strftime(\"%Y-%m-%d\")\n",
    "\n",
    "    EXTENT = [lon - 0.5, lat - 0.5, lon + 0.5, lat + 0.5]\n",
    "    START = start_date\n",
    "    END = end_date\n",
    "\n",
    "    print(fire_id, time, lon, lat, EXTENT, START, END) \n",
    "\n",
    "    # list1 = [fire_id]\n",
    "    # list2 = [time]\n",
    "    # df = pd.DataFrame(list1, list2)#, #columns=['Column1'])\n",
    "    # print(df)\n",
    "    # print(type(time))\n",
    "    \n",
    "    satellites = ['SNPP','NOAA20']\n",
    "    \n",
    "    #first check both satellites if there is a close match in time to the pyroCb\n",
    "    #if there is a match for either, generate the outputs\n",
    "    #if not, skip ahead to the next fire\n",
    "\n",
    "    found_match = False\n",
    "    \n",
    "    for s in satellites:\n",
    "        print(s)\n",
    "        #s3_links, files = fetch_data(s)\n",
    "        if s=='SNPP': products = ['VNP03IMG','VNP02IMG','VNP14IMG']\n",
    "        elif s=='NOAA20': products = ['VJ103IMG','VJ102IMG','VJ114IMG']\n",
    "\n",
    "        files = {}\n",
    "\n",
    "        #query geolocation 03IMG\n",
    "        results = earthaccess.search_data(\n",
    "            short_name=products[0],\n",
    "            bounding_box=(EXTENT[0],EXTENT[1],EXTENT[2],EXTENT[3]),\n",
    "            temporal=(START, END),\n",
    "            count=100\n",
    "        )\n",
    "        \n",
    "        #use URLs to check if any are within 2 hours of pyroCb time (date_object)\n",
    "        \n",
    "        urls = [r.data_links()[0] for r in results]\n",
    "        timestamps = []\n",
    "        \n",
    "        for url in urls:\n",
    "            timestamp = url.split('.')[-5:-3]\n",
    "            year = timestamp[0][1:5]\n",
    "            day = timestamp[0][5:8]\n",
    "            time = timestamp[1]\n",
    "\n",
    "            timestamp_obj = dt.datetime.strptime(year+day+time[:2]+time[2:], '%Y%j%H%M')\n",
    "            timestamps.append(timestamp_obj)\n",
    "        \n",
    "        #differences = [(date_object - t)/ dt.timedelta(hours=1) for t in timestamps]\n",
    "        \n",
    "        # if any(abs(d) < 2 for d in differences):\n",
    "        #     found_match = True\n",
    "        #     print(f'Found a close match for fire {fire_id}')\n",
    "        #     break #skip ahead past NOAA20 / out of this satellite looop\n",
    "         \n",
    "    #if not found_match:\n",
    "        #print(f'No match found for fire {fire_id}, skipping ahead')\n",
    "        #continue #skip and continue on to the next fire\n",
    "    \n",
    "    #proceeds to this step unless found_match was not changed to True for either satellite\n",
    "    print('proceeding to open data files...')\n",
    "    \n",
    "    for s in satellites:\n",
    "        #s3_links, files = fetch_data(s)\n",
    "        if s=='SNPP': products = ['VNP03IMG','VNP02IMG','VNP14IMG']\n",
    "        elif s=='NOAA20': products = ['VJ103IMG','VJ102IMG','VJ114IMG']\n",
    "\n",
    "        files = {}\n",
    "\n",
    "        #query geolocation 03IMG\n",
    "        results = earthaccess.search_data(\n",
    "            short_name=products[0],\n",
    "            bounding_box=(EXTENT[0],EXTENT[1],EXTENT[2],EXTENT[3]),\n",
    "            temporal=(START, END),\n",
    "            count=100\n",
    "        )\n",
    "        files[products[0]] = earthaccess.open(results)\n",
    "\n",
    "        #science data 02IMG\n",
    "        results = earthaccess.search_data(\n",
    "            short_name=products[1],\n",
    "            bounding_box=(EXTENT[0],EXTENT[1],EXTENT[2],EXTENT[3]),\n",
    "            temporal=(START, END),\n",
    "            count=100\n",
    "        )\n",
    "        files[products[1]] = earthaccess.open(results)\n",
    "\n",
    "        \n",
    "        #initiate cloud session - need to reauthenticate every hour :(\n",
    "        auth = Auth() \n",
    "        #auth.login(strategy=\"interactive\", persist=True) #RUN THIS THE FIRST TIME\n",
    "        auth.login(strategy=\"netrc\") #read credentials from previously saved ~/.netrc file\n",
    "\n",
    "        store = Store(auth)\n",
    "        fs = store.get_s3fs_session('LAADS') #daac or provider name\n",
    "        \n",
    "        product = products[2]\n",
    "\n",
    "        Query = DataGranules().short_name(product).bounding_box(EXTENT[0],EXTENT[1],EXTENT[2],EXTENT[3]).temporal(START,END)\n",
    "\n",
    "        print(Query.hits(), 'hits')\n",
    "        cloud_granules = Query.get(800) #first 800 results\n",
    "        print('cloud hosted', cloud_granules[0].cloud_hosted)\n",
    "\n",
    "        s3_links = {}\n",
    "        s3_links[product] = []\n",
    "        for granule in cloud_granules:\n",
    "            s3_links[product].extend(granule.data_links(access=\"in-region\"))\n",
    "        s3_links[product] = sorted(s3_links[product]) \n",
    "        files[product] = store.open(s3_links[product], provider=\"LAADS\")\n",
    "\n",
    "        print(product)\n",
    "        pprint(files)\n",
    "        "
   ]
  },
  {
   "cell_type": "code",
   "execution_count": null,
   "id": "51c36ce1-4069-4004-98ec-7e2dd79fa33a",
   "metadata": {
    "jupyter": {
     "source_hidden": true
    },
    "tags": []
   },
   "outputs": [],
   "source": [
    "        all_dets = pd.DataFrame()\n",
    "\n",
    "        for i in range(len(files[products[0]])): #VNP03IMG or VJ103IMG\n",
    "            timestamp = files[products[0]][i].path.split('.')[-5:-3]\n",
    "            print(timestamp)\n",
    "            year = timestamp[0][1:5]\n",
    "            day = timestamp[0][5:8]\n",
    "            time = timestamp[1]\n",
    "            date = dt.datetime.strptime(year+day, '%Y%j').strftime('%b %-d')\n",
    "            acq_datetime_obj = dt.datetime.strptime(year+day+time[:2]+time[2:], '%Y%j%H%M')\n",
    "            acq_datetime = acq_datetime_obj.strftime('%Y-%m-%d %H:%M:00 +00:00') \n",
    "            daytime = int(time) > 1500 #depends on timezone\n",
    "            \n",
    "            #calculate the time difference \n",
    "            diff = date_object - acq_datetime_obj\n",
    "            diff = diff / dt.timedelta(hours=1)\n",
    "            print(diff)\n",
    "            \n",
    "            try:\n",
    "                #open 03IMG geolocation\n",
    "                geo = xr.open_dataset(files[products[0]][i], engine='h5netcdf', group='geolocation_data')\n",
    "                lon = geo['lt_lon'][:]\n",
    "                lat = geo['lt_lat'][:]\n",
    "                _, j = np.indices(geo.longitude.shape) #line and sample\n",
    "\n",
    "                scene = (lon > EXTENT[0]) & (lon < EXTENT[2]) & (lat > EXTENT[1]) & (lat < EXTENT[3])\n",
    "\n",
    "                #crop down the datasets for memory \n",
    "                indices = np.where(scene)\n",
    "                x0 = indices[0].min()\n",
    "                x1 = indices[0].max()\n",
    "                y0 = indices[1].min()\n",
    "                y1 = indices[1].max()\n",
    "\n",
    "                lon = lon[x0:x1, y0:y1]\n",
    "                lat = lat[x0:x1, y0:y1]\n",
    "                j = j[x0:x1, y0:y1]\n",
    "\n",
    "                #open 02IMG science data, i4 band\n",
    "                data = xr.open_dataset(files[products[1]][i], engine='h5netcdf', group='observation_data')\n",
    "                data = data.sel(number_of_lines=slice(x0,x1), number_of_pixels=slice(y0,y1))\n",
    "\n",
    "                i4 = data['I04'] #xarray already encodes the scale factor and offset\n",
    "                scale = data.I04.encoding['scale_factor']\n",
    "                offset = data.I04.encoding['add_offset']\n",
    "                i4 = (i4[:,:] - offset) / scale #return to raw values to use lookup table to temperature\n",
    "                i4 = i4.astype(int)\n",
    "                i4_bt = data['I04_brightness_temperature_lut'][:]\n",
    "                i4_bt = i4_bt[i4]\n",
    "\n",
    "                #get VNP14IMG\n",
    "                match = [f for f in files[products[2]] if timestamp[0] and timestamp[1] in f.path][0]\n",
    "                data = xr.open_dataset(match, phony_dims = 'sort')\n",
    "                data = data.sel(phony_dim_1=slice(x0,x1), phony_dim_2=slice(y0,y1))\n",
    "                daynight = data.DayNightFlag #string Day or Night\n",
    "\n",
    "                qa = data.variables['algorithm QA'][:]\n",
    "                fire = data.variables['fire mask'][:]  \n",
    "                fires = (fire>6).values\n",
    "\n",
    "            except:\n",
    "                print('error with file',timestamp)\n",
    "                #stop\n",
    "                continue\n",
    "\n",
    "            #look at QA flags data next over entire scene\n",
    "            values, counts = np.unique(qa, return_counts=True)\n",
    "\n",
    "            table = pd.DataFrame(index = values, columns=range(22,-1,-1)) #[22,21,...0]\n",
    "            for i1 in table.index:\n",
    "                b = np.binary_repr(i1, width=23)\n",
    "                b = [int(s) for s in b]\n",
    "                table.loc[i1, :] = b\n",
    "\n",
    "            #report back all the pixels that have an 8 or 10 ~ background or candidate fires\n",
    "            keep = table[(table.loc[:,8]==1) | (table.loc[:,10]==1)].index\n",
    "            keep = (np.isin(qa[:], keep) | (fires))  #\"fires\" because some low conf are Test 16 pixel saturation\n",
    "\n",
    "\n",
    "            #build pandas table for exporting, following VIIRS L2 columns\n",
    "            i_dets = pd.DataFrame()\n",
    "            i_dets['longitude'] = list(lon.values[keep])\n",
    "            i_dets['latitude'] = list(lat.values[keep])\n",
    "            i_dets['fire_mask'] = list(fire.values[keep])\n",
    "            i_dets['daynight'] = daynight[0]\n",
    "            i_dets['confidence'] = i_dets.fire_mask\n",
    "            i_dets.confidence = i_dets.confidence.replace({0:'x', 1:'x', 2:'x', 3:'x', 4:'x', 5:'x', 6:'x', 7:'l', 8:'n', 9:'h'})\n",
    "            i_dets['acq_date'] = date\n",
    "            i_dets['acq_time'] = time\n",
    "            i_dets['acq_datetime'] = acq_datetime\n",
    "            i_dets['j'] = list(j[keep]) #sample number for pixel size lookup\n",
    "\n",
    "            #crop down to defined extent\n",
    "            i_dets = i_dets[(i_dets.longitude > EXTENT[0]) & (i_dets.longitude < EXTENT[2]) & (i_dets.latitude > EXTENT[1]) & (i_dets.latitude < EXTENT[3])]\n",
    "            i_dets()"
   ]
  }
 ],
 "metadata": {
  "kernelspec": {
   "display_name": "Python 3 (ipykernel)",
   "language": "python",
   "name": "python3"
  },
  "language_info": {
   "codemirror_mode": {
    "name": "ipython",
    "version": 3
   },
   "file_extension": ".py",
   "mimetype": "text/x-python",
   "name": "python",
   "nbconvert_exporter": "python",
   "pygments_lexer": "ipython3",
   "version": "3.10.13"
  }
 },
 "nbformat": 4,
 "nbformat_minor": 5
}
